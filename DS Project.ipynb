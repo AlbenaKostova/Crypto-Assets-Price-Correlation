{
 "cells": [
  {
   "cell_type": "code",
   "execution_count": 1,
   "id": "a0190960",
   "metadata": {},
   "outputs": [],
   "source": [
    "%matplotlib inline"
   ]
  },
  {
   "cell_type": "code",
   "execution_count": 2,
   "id": "850b5b31",
   "metadata": {},
   "outputs": [],
   "source": [
    "import pandas as pd\n",
    "import numpy as np\n",
    "import sympy\n",
    "import math\n",
    "\n",
    "import matplotlib.pyplot as plt\n",
    "\n",
    "from sklearn.ensemble import RandomForestClassifier\n",
    "from sklearn.metrics import precision_score\n",
    "from sklearn.model_selection import train_test_split\n",
    "from sklearn.linear_model import LinearRegression\n",
    "from sklearn import metrics"
   ]
  },
  {
   "cell_type": "markdown",
   "id": "7d6fa740",
   "metadata": {},
   "source": [
    "# Crypto Assets Price Correlation\n",
    "## Does cryptocurrencies' price correlation with BTC also apply to NFTs?\n"
   ]
  },
  {
   "cell_type": "markdown",
   "id": "b7870831",
   "metadata": {},
   "source": [
    "![Alt text](https://i.imgur.com/ISdPmYe.jpg)"
   ]
  },
  {
   "cell_type": "markdown",
   "id": "71428d19",
   "metadata": {},
   "source": [
    "## The 7 Steps of Scientific Method\n",
    "1. Make an observation and/or ask a question - how, when, who, which\n",
    "\n",
    "2. Perform research \n",
    "    1. Explore previous research\n",
    "    2. Figure out your research method\n",
    "    3. Collect data\n",
    "    4. Get your data clean and tidy\n",
    "    \n",
    "3. Establish your hypothesis\n",
    "\n",
    "4. Create predictions based on the hypothesis and test them\n",
    "    \n",
    "5. Make an observation and visualize the test results    \n",
    "    \n",
    "6. Build a model to confirm/reject your prediction\n",
    "\n",
    "7. Analyze the results and draw a conclusion"
   ]
  },
  {
   "cell_type": "markdown",
   "id": "6c4de616",
   "metadata": {},
   "source": [
    "## 1. Make an Observation\n",
    "\n",
    "Having been working in the crypto and blockchain industry for more than four years now, I have repeatedly noticed that the prices of most of the cryptocurrencies and tokens on the market are strongly influenced by the price of Bitcoin. Quite often, a significant slump in the price of Bitcoin leads to a price decrease of the majority of traded cryptocurrencies, regardless of their supply, and results in the so-called \"bear market\", similar to the one we are witnessing at the moment of writing.\n",
    "\n",
    "I decided to test that observation by checking the correlation between the historical prices of Bitcoin (BTC) and Ethereum (ETH) - the second largest cryptocurrency by market capitalization. Moreover, to reach a more trustworthy conclusion, I searched for data on a few more randomly selected cryptocurrencies.\n",
    "\n",
    "Then I wondered whether this supposed correlation applies to all crypto assets on the market, and in particular to NFTs (Non-Fungible Tokens). __NFTs experienced quite a boom in popularity, sales, and prices in the middle of 2021, as if not influenced or boosted by the Bitcoin price in any way. However, in 2021 Bitcoin more than doubled its previous all-time-high price. Moreover, if NFTs weren't correlated to BTC, the current bear market would not have affected them at all.__\n"
   ]
  },
  {
   "cell_type": "markdown",
   "id": "09cd4294",
   "metadata": {},
   "source": [
    "## 2. Perform Research \n",
    "\n",
    "### 2.1. Explore Previous Research\n",
    "\n",
    "When looking for data on the crypto assets' correlations, the research one can find out there usually focuses on correlations to  commodity and financial assets outside the crypto space, such as gold or S&P500 Companies' stock. The only investigation of correlation between BTC and other cryptocurrencies' prices I could find can be accessed [here](https://www.blockchaincenter.net/en/cryptocurrency-correlation-study/?timeframe=730days&asset1=SP500&asset2=BTC#correlationtable). In fact, it does prove a strong positive correlation, though it concerns a small number of assets and a period of only two years. \n",
    "\n",
    "__Concerning the NFT prices' correlation to the BTC price, [a Nansen report claims that NFTs denominated in ETH are actually inversely correlated with the crypto market](https://decrypt.co/95139/ethereum-nft-inversely-correlated-crypto-market-nansen).__ The report that investigates the one-year period ending on 28 February 2022, goes on to say: _\"While most crypto markets have experienced a hefty correction of late, NFTs blazed ahead with a performance of 90.9% year-to-date (YTD) when denominated in ETH, and 35.9% YTD when denominated in the greenback. Since January 1, the period in question, Bitcoin has dropped roughly 17% and Ethereum has fallen more than 31%, according to CoinMarketCap.\"_\n",
    "\n",
    "However, I tend to disagree with these findings and find them a bit misleading. Here's why:\n",
    "* The 2021 boom of NFT prices and sales was somewhat kickstarted by [Beeple selling an NFT for 69 million USD](https://www.theverge.com/2021/3/11/22325054/beeple-christies-nft-sale-cost-everydays-69-million) which took place in the beginning of March 2021. So, the steep increase in prices of NFTs occurred after that event, as prices remained rather high throughout 2021 and the beginning of 2022. Therefore, a comparison of the data from Feb 2021 and Feb 2022 would naturally show a spectacular growth.\n",
    "* Bitcoin has indeed dropped some of its value between Jan 1st and Feb 28th of 2022, but its price more than halved throughout the following period. This current research tries to prove that that slump has affected NFT prices too. \n",
    "* The report also says: _\"Data provided from Nansen indicates that its NFT 500 index (in ETH terms) has a -0.46 correlation coefficient with Bitcoin....However, when examining the price of NFTs in dollar denominations, a positive correlation emerges between the two assets.The reason for this discrepancy is primarily due to volatility, Nansen said.\"_ We can safely conclude that these negative correlation findings are not definitive, to say the least. \n",
    "\n",
    "\n",
    "### 2.2. Figure Out What Research Methods To Use\n",
    "\n",
    "#### 2.2.1. Find Correlation Between Prices of BTC and 9 Other Cryptocurrencies Over a Period of Over 4 Years\n",
    "\n",
    "To reach more conclusive results, I want to gather information on a longer period of time. However, although Bitcoin has existed since 2009, Ethereum was established in 2014 and most of the other cryptocurrencies on the market today have been born over the last two or three years. \n",
    "\n",
    "The crypto space is quite a dynamic one. New cryptocurrencies and other crypto assets are being created on a daily basis, but are also daily dying out. Even though hundreds of cryptocurrencies have been created following the launch of the Bitcoin blockchain, many of them did not survive until today. \n",
    "\n",
    "__So, striving to research at least 10 currencies and to cover a longer timeframe than 2 years, I selected assets that have been created around the year 2017 and still exist today. I managed to find data for a period of more than 4 years.__\n",
    "\n",
    "#### 2.2.2. Find Correlation Between Prices of BTC and NFTs Over a Period of Over 4 Years, With Focus on 2021-2022\n",
    "\n",
    "__After confirming or rejecting cryptocurrencies' correlation with BTC, comes the second part of my research. I want to check whether such correlation exists for NFTs as well.__\n",
    "\n",
    "The first-ever NFT was created in 2014, but the technology gained popularity with the creation of the game Crypto Kitties in 2017. Consequently, data on NFTs sales and prices is available from the year 2017 onwards too. \n",
    "\n",
    "#### 2.2.3. Find Correlation Between Prices of BTC and NFT-Related Token Over a Period of Over 4 Years, With Focus on 2021-2022\n",
    "\n",
    "I guess that if a price correlation exists between NFTs and BTC, the same will be present for NFT-related tokens and BTC, so I plan on checking that guess's validity.\n",
    "\n",
    "NFT-related tokens are tokens of crypto projects that have NFTs as core element of their business model. Such projects are [Decentraland](https://decentraland.org/) - the creator of the first-ever virtual world owned by its users, [Sandbox](https://www.sandbox.game/en/) - NFT mobile game and virtual world, [Axie Infinity](https://axieinfinity.com/) - NFT-enabled video game, and many more. I will investigate Decentraland's token MANA. \n",
    "\n",
    "#### 2.2.4. Design and Run Models to Find the Future Price Prediction of the NFT-Related Token\n",
    "\n",
    "I want to test NFT-related tokens' correlation also because tokens provide more market- and price-related data compared with NFTs. This is to a large extent due to the unique nature and specific price-discovery mechanisms of NFTs. I will use that price-related data to create models that will help me confirm or deny my predictions. \n",
    "\n",
    "### 2.3. Collect Data\n",
    "#### 2.3.1. Cryptocurrencies Data\n",
    "\n",
    "After trying to source historical data from CoinMarketCap, but failing because of a paywall, I counted entirely on Kaggle. \n",
    "__I found data on Bitcoin (BTC), Ethereum (ETH), Cardano (ADA), EOS, Litecoin (LTC), Maker (MKR), NEM, Stellar (XLM), Tron (TRX), ZCash (ZEC).__\n",
    "\n",
    "Unfortunately, the information of each particular asset was split into a different spreadsheet, except for BTC and ETH, so I will need to merge them into one. "
   ]
  },
  {
   "cell_type": "code",
   "execution_count": 3,
   "id": "eab4923d",
   "metadata": {},
   "outputs": [
    {
     "data": {
      "text/html": [
       "<div>\n",
       "<style scoped>\n",
       "    .dataframe tbody tr th:only-of-type {\n",
       "        vertical-align: middle;\n",
       "    }\n",
       "\n",
       "    .dataframe tbody tr th {\n",
       "        vertical-align: top;\n",
       "    }\n",
       "\n",
       "    .dataframe thead th {\n",
       "        text-align: right;\n",
       "    }\n",
       "</style>\n",
       "<table border=\"1\" class=\"dataframe\">\n",
       "  <thead>\n",
       "    <tr style=\"text-align: right;\">\n",
       "      <th></th>\n",
       "      <th>Date</th>\n",
       "      <th>Adj Close (BNB)</th>\n",
       "      <th>Volume (BNB)</th>\n",
       "      <th>Adj Close (BTC)</th>\n",
       "      <th>Volume (BTC)</th>\n",
       "      <th>Adj Close (USDT)</th>\n",
       "      <th>Volume (USDT)</th>\n",
       "      <th>Adj Close (ETH)</th>\n",
       "      <th>Volume (ETH)</th>\n",
       "    </tr>\n",
       "  </thead>\n",
       "  <tbody>\n",
       "    <tr>\n",
       "      <th>0</th>\n",
       "      <td>09/11/2017</td>\n",
       "      <td>1.99077</td>\n",
       "      <td>19192200</td>\n",
       "      <td>7143.580078</td>\n",
       "      <td>3226249984</td>\n",
       "      <td>1.00818</td>\n",
       "      <td>358188000</td>\n",
       "      <td>320.884003</td>\n",
       "      <td>893249984</td>\n",
       "    </tr>\n",
       "    <tr>\n",
       "      <th>1</th>\n",
       "      <td>10/11/2017</td>\n",
       "      <td>1.79684</td>\n",
       "      <td>11155000</td>\n",
       "      <td>6618.140137</td>\n",
       "      <td>5208249856</td>\n",
       "      <td>1.00601</td>\n",
       "      <td>756446016</td>\n",
       "      <td>299.252991</td>\n",
       "      <td>885985984</td>\n",
       "    </tr>\n",
       "    <tr>\n",
       "      <th>2</th>\n",
       "      <td>11/11/2017</td>\n",
       "      <td>1.67047</td>\n",
       "      <td>8178150</td>\n",
       "      <td>6357.600098</td>\n",
       "      <td>4908680192</td>\n",
       "      <td>1.00899</td>\n",
       "      <td>746227968</td>\n",
       "      <td>314.681000</td>\n",
       "      <td>842300992</td>\n",
       "    </tr>\n",
       "    <tr>\n",
       "      <th>3</th>\n",
       "      <td>12/11/2017</td>\n",
       "      <td>1.51969</td>\n",
       "      <td>15298700</td>\n",
       "      <td>5950.069824</td>\n",
       "      <td>8957349888</td>\n",
       "      <td>1.01247</td>\n",
       "      <td>1466060032</td>\n",
       "      <td>307.907990</td>\n",
       "      <td>1613479936</td>\n",
       "    </tr>\n",
       "    <tr>\n",
       "      <th>4</th>\n",
       "      <td>13/11/2017</td>\n",
       "      <td>1.68662</td>\n",
       "      <td>12238800</td>\n",
       "      <td>6559.490234</td>\n",
       "      <td>6263249920</td>\n",
       "      <td>1.00935</td>\n",
       "      <td>767884032</td>\n",
       "      <td>316.716003</td>\n",
       "      <td>1041889984</td>\n",
       "    </tr>\n",
       "  </tbody>\n",
       "</table>\n",
       "</div>"
      ],
      "text/plain": [
       "         Date  Adj Close (BNB)  Volume (BNB)  Adj Close (BTC)  Volume (BTC)  \\\n",
       "0  09/11/2017          1.99077      19192200      7143.580078    3226249984   \n",
       "1  10/11/2017          1.79684      11155000      6618.140137    5208249856   \n",
       "2  11/11/2017          1.67047       8178150      6357.600098    4908680192   \n",
       "3  12/11/2017          1.51969      15298700      5950.069824    8957349888   \n",
       "4  13/11/2017          1.68662      12238800      6559.490234    6263249920   \n",
       "\n",
       "   Adj Close (USDT)  Volume (USDT)  Adj Close (ETH)  Volume (ETH)  \n",
       "0           1.00818      358188000       320.884003     893249984  \n",
       "1           1.00601      756446016       299.252991     885985984  \n",
       "2           1.00899      746227968       314.681000     842300992  \n",
       "3           1.01247     1466060032       307.907990    1613479936  \n",
       "4           1.00935      767884032       316.716003    1041889984  "
      ]
     },
     "execution_count": 3,
     "metadata": {},
     "output_type": "execute_result"
    }
   ],
   "source": [
    "df_btc_eth = pd.read_csv('C:/Users/35989/Desktop/DS Project/BTC.csv')\n",
    "df_btc_eth.head()"
   ]
  },
  {
   "cell_type": "code",
   "execution_count": 4,
   "id": "4635e513",
   "metadata": {},
   "outputs": [
    {
     "data": {
      "text/html": [
       "<div>\n",
       "<style scoped>\n",
       "    .dataframe tbody tr th:only-of-type {\n",
       "        vertical-align: middle;\n",
       "    }\n",
       "\n",
       "    .dataframe tbody tr th {\n",
       "        vertical-align: top;\n",
       "    }\n",
       "\n",
       "    .dataframe thead th {\n",
       "        text-align: right;\n",
       "    }\n",
       "</style>\n",
       "<table border=\"1\" class=\"dataframe\">\n",
       "  <thead>\n",
       "    <tr style=\"text-align: right;\">\n",
       "      <th></th>\n",
       "      <th>Date</th>\n",
       "      <th>Open</th>\n",
       "      <th>High</th>\n",
       "      <th>Low</th>\n",
       "      <th>Close</th>\n",
       "      <th>Adj Close</th>\n",
       "      <th>Volume</th>\n",
       "    </tr>\n",
       "  </thead>\n",
       "  <tbody>\n",
       "    <tr>\n",
       "      <th>0</th>\n",
       "      <td>2017-11-09</td>\n",
       "      <td>0.025160</td>\n",
       "      <td>0.035060</td>\n",
       "      <td>0.025006</td>\n",
       "      <td>0.032053</td>\n",
       "      <td>0.032053</td>\n",
       "      <td>18716200</td>\n",
       "    </tr>\n",
       "    <tr>\n",
       "      <th>1</th>\n",
       "      <td>2017-11-10</td>\n",
       "      <td>0.032219</td>\n",
       "      <td>0.033348</td>\n",
       "      <td>0.026451</td>\n",
       "      <td>0.027119</td>\n",
       "      <td>0.027119</td>\n",
       "      <td>6766780</td>\n",
       "    </tr>\n",
       "    <tr>\n",
       "      <th>2</th>\n",
       "      <td>2017-11-11</td>\n",
       "      <td>0.026891</td>\n",
       "      <td>0.029659</td>\n",
       "      <td>0.025684</td>\n",
       "      <td>0.027437</td>\n",
       "      <td>0.027437</td>\n",
       "      <td>5532220</td>\n",
       "    </tr>\n",
       "    <tr>\n",
       "      <th>3</th>\n",
       "      <td>2017-11-12</td>\n",
       "      <td>0.027480</td>\n",
       "      <td>0.027952</td>\n",
       "      <td>0.022591</td>\n",
       "      <td>0.023977</td>\n",
       "      <td>0.023977</td>\n",
       "      <td>7280250</td>\n",
       "    </tr>\n",
       "    <tr>\n",
       "      <th>4</th>\n",
       "      <td>2017-11-13</td>\n",
       "      <td>0.024364</td>\n",
       "      <td>0.026300</td>\n",
       "      <td>0.023495</td>\n",
       "      <td>0.025808</td>\n",
       "      <td>0.025808</td>\n",
       "      <td>4419440</td>\n",
       "    </tr>\n",
       "  </tbody>\n",
       "</table>\n",
       "</div>"
      ],
      "text/plain": [
       "         Date      Open      High       Low     Close  Adj Close    Volume\n",
       "0  2017-11-09  0.025160  0.035060  0.025006  0.032053   0.032053  18716200\n",
       "1  2017-11-10  0.032219  0.033348  0.026451  0.027119   0.027119   6766780\n",
       "2  2017-11-11  0.026891  0.029659  0.025684  0.027437   0.027437   5532220\n",
       "3  2017-11-12  0.027480  0.027952  0.022591  0.023977   0.023977   7280250\n",
       "4  2017-11-13  0.024364  0.026300  0.023495  0.025808   0.025808   4419440"
      ]
     },
     "execution_count": 4,
     "metadata": {},
     "output_type": "execute_result"
    }
   ],
   "source": [
    "df_ada = pd.read_csv('C:/Users/35989/Desktop/DS Project/ADA-USD-2017-2022.csv')\n",
    "df_ada.head()"
   ]
  },
  {
   "cell_type": "code",
   "execution_count": 5,
   "id": "cd24b348",
   "metadata": {},
   "outputs": [
    {
     "data": {
      "text/html": [
       "<div>\n",
       "<style scoped>\n",
       "    .dataframe tbody tr th:only-of-type {\n",
       "        vertical-align: middle;\n",
       "    }\n",
       "\n",
       "    .dataframe tbody tr th {\n",
       "        vertical-align: top;\n",
       "    }\n",
       "\n",
       "    .dataframe thead th {\n",
       "        text-align: right;\n",
       "    }\n",
       "</style>\n",
       "<table border=\"1\" class=\"dataframe\">\n",
       "  <thead>\n",
       "    <tr style=\"text-align: right;\">\n",
       "      <th></th>\n",
       "      <th>Date</th>\n",
       "      <th>Open</th>\n",
       "      <th>High</th>\n",
       "      <th>Low</th>\n",
       "      <th>Close</th>\n",
       "      <th>Volume</th>\n",
       "      <th>Currency</th>\n",
       "    </tr>\n",
       "  </thead>\n",
       "  <tbody>\n",
       "    <tr>\n",
       "      <th>0</th>\n",
       "      <td>2017-11-09</td>\n",
       "      <td>1.13307</td>\n",
       "      <td>1.20771</td>\n",
       "      <td>1.13254</td>\n",
       "      <td>1.18080</td>\n",
       "      <td>24725800.0</td>\n",
       "      <td>USD</td>\n",
       "    </tr>\n",
       "    <tr>\n",
       "      <th>1</th>\n",
       "      <td>2017-11-10</td>\n",
       "      <td>1.18214</td>\n",
       "      <td>1.18214</td>\n",
       "      <td>0.99488</td>\n",
       "      <td>1.03065</td>\n",
       "      <td>23024200.0</td>\n",
       "      <td>USD</td>\n",
       "    </tr>\n",
       "    <tr>\n",
       "      <th>2</th>\n",
       "      <td>2017-11-11</td>\n",
       "      <td>1.02906</td>\n",
       "      <td>1.18155</td>\n",
       "      <td>1.01155</td>\n",
       "      <td>1.16498</td>\n",
       "      <td>27539300.0</td>\n",
       "      <td>USD</td>\n",
       "    </tr>\n",
       "    <tr>\n",
       "      <th>3</th>\n",
       "      <td>2017-11-12</td>\n",
       "      <td>1.15967</td>\n",
       "      <td>1.17923</td>\n",
       "      <td>1.03654</td>\n",
       "      <td>1.09397</td>\n",
       "      <td>29229800.0</td>\n",
       "      <td>USD</td>\n",
       "    </tr>\n",
       "    <tr>\n",
       "      <th>4</th>\n",
       "      <td>2017-11-13</td>\n",
       "      <td>1.09447</td>\n",
       "      <td>1.18850</td>\n",
       "      <td>1.08344</td>\n",
       "      <td>1.17888</td>\n",
       "      <td>20848600.0</td>\n",
       "      <td>USD</td>\n",
       "    </tr>\n",
       "  </tbody>\n",
       "</table>\n",
       "</div>"
      ],
      "text/plain": [
       "         Date     Open     High      Low    Close      Volume Currency\n",
       "0  2017-11-09  1.13307  1.20771  1.13254  1.18080  24725800.0      USD\n",
       "1  2017-11-10  1.18214  1.18214  0.99488  1.03065  23024200.0      USD\n",
       "2  2017-11-11  1.02906  1.18155  1.01155  1.16498  27539300.0      USD\n",
       "3  2017-11-12  1.15967  1.17923  1.03654  1.09397  29229800.0      USD\n",
       "4  2017-11-13  1.09447  1.18850  1.08344  1.17888  20848600.0      USD"
      ]
     },
     "execution_count": 5,
     "metadata": {},
     "output_type": "execute_result"
    }
   ],
   "source": [
    "df_eos = pd.read_csv('C:/Users/35989/Desktop/DS Project/EOS.csv')\n",
    "df_eos.head()"
   ]
  },
  {
   "cell_type": "code",
   "execution_count": 6,
   "id": "27500b5c",
   "metadata": {},
   "outputs": [
    {
     "data": {
      "text/html": [
       "<div>\n",
       "<style scoped>\n",
       "    .dataframe tbody tr th:only-of-type {\n",
       "        vertical-align: middle;\n",
       "    }\n",
       "\n",
       "    .dataframe tbody tr th {\n",
       "        vertical-align: top;\n",
       "    }\n",
       "\n",
       "    .dataframe thead th {\n",
       "        text-align: right;\n",
       "    }\n",
       "</style>\n",
       "<table border=\"1\" class=\"dataframe\">\n",
       "  <thead>\n",
       "    <tr style=\"text-align: right;\">\n",
       "      <th></th>\n",
       "      <th>Date</th>\n",
       "      <th>Open</th>\n",
       "      <th>High</th>\n",
       "      <th>Low</th>\n",
       "      <th>Close</th>\n",
       "      <th>Volume</th>\n",
       "      <th>Currency</th>\n",
       "    </tr>\n",
       "  </thead>\n",
       "  <tbody>\n",
       "    <tr>\n",
       "      <th>0</th>\n",
       "      <td>2016-08-24</td>\n",
       "      <td>3.95</td>\n",
       "      <td>3.96</td>\n",
       "      <td>3.61</td>\n",
       "      <td>3.84</td>\n",
       "      <td>21857</td>\n",
       "      <td>USD</td>\n",
       "    </tr>\n",
       "    <tr>\n",
       "      <th>1</th>\n",
       "      <td>2016-08-25</td>\n",
       "      <td>3.84</td>\n",
       "      <td>3.88</td>\n",
       "      <td>3.75</td>\n",
       "      <td>3.81</td>\n",
       "      <td>21870</td>\n",
       "      <td>USD</td>\n",
       "    </tr>\n",
       "    <tr>\n",
       "      <th>2</th>\n",
       "      <td>2016-08-26</td>\n",
       "      <td>3.81</td>\n",
       "      <td>3.90</td>\n",
       "      <td>3.77</td>\n",
       "      <td>3.81</td>\n",
       "      <td>14349</td>\n",
       "      <td>USD</td>\n",
       "    </tr>\n",
       "    <tr>\n",
       "      <th>3</th>\n",
       "      <td>2016-08-27</td>\n",
       "      <td>3.81</td>\n",
       "      <td>3.85</td>\n",
       "      <td>3.62</td>\n",
       "      <td>3.78</td>\n",
       "      <td>4906</td>\n",
       "      <td>USD</td>\n",
       "    </tr>\n",
       "    <tr>\n",
       "      <th>4</th>\n",
       "      <td>2016-08-28</td>\n",
       "      <td>3.78</td>\n",
       "      <td>3.78</td>\n",
       "      <td>3.62</td>\n",
       "      <td>3.72</td>\n",
       "      <td>8192</td>\n",
       "      <td>USD</td>\n",
       "    </tr>\n",
       "  </tbody>\n",
       "</table>\n",
       "</div>"
      ],
      "text/plain": [
       "         Date  Open  High   Low  Close  Volume Currency\n",
       "0  2016-08-24  3.95  3.96  3.61   3.84   21857      USD\n",
       "1  2016-08-25  3.84  3.88  3.75   3.81   21870      USD\n",
       "2  2016-08-26  3.81  3.90  3.77   3.81   14349      USD\n",
       "3  2016-08-27  3.81  3.85  3.62   3.78    4906      USD\n",
       "4  2016-08-28  3.78  3.78  3.62   3.72    8192      USD"
      ]
     },
     "execution_count": 6,
     "metadata": {},
     "output_type": "execute_result"
    }
   ],
   "source": [
    "df_ltc = pd.read_csv('C:/Users/35989/Desktop/DS Project/litecoin.csv')\n",
    "df_ltc.head()"
   ]
  },
  {
   "cell_type": "code",
   "execution_count": 7,
   "id": "38bccdeb",
   "metadata": {},
   "outputs": [
    {
     "data": {
      "text/html": [
       "<div>\n",
       "<style scoped>\n",
       "    .dataframe tbody tr th:only-of-type {\n",
       "        vertical-align: middle;\n",
       "    }\n",
       "\n",
       "    .dataframe tbody tr th {\n",
       "        vertical-align: top;\n",
       "    }\n",
       "\n",
       "    .dataframe thead th {\n",
       "        text-align: right;\n",
       "    }\n",
       "</style>\n",
       "<table border=\"1\" class=\"dataframe\">\n",
       "  <thead>\n",
       "    <tr style=\"text-align: right;\">\n",
       "      <th></th>\n",
       "      <th>Date</th>\n",
       "      <th>Open</th>\n",
       "      <th>High</th>\n",
       "      <th>Low</th>\n",
       "      <th>Close</th>\n",
       "      <th>Volume</th>\n",
       "      <th>Currency</th>\n",
       "    </tr>\n",
       "  </thead>\n",
       "  <tbody>\n",
       "    <tr>\n",
       "      <th>0</th>\n",
       "      <td>2017-11-20</td>\n",
       "      <td>252.481995</td>\n",
       "      <td>278.230988</td>\n",
       "      <td>252.401993</td>\n",
       "      <td>272.449005</td>\n",
       "      <td>259174.0</td>\n",
       "      <td>USD</td>\n",
       "    </tr>\n",
       "    <tr>\n",
       "      <th>1</th>\n",
       "      <td>2017-11-21</td>\n",
       "      <td>272.019989</td>\n",
       "      <td>288.925995</td>\n",
       "      <td>260.019012</td>\n",
       "      <td>279.920013</td>\n",
       "      <td>9649.0</td>\n",
       "      <td>USD</td>\n",
       "    </tr>\n",
       "    <tr>\n",
       "      <th>2</th>\n",
       "      <td>2017-11-22</td>\n",
       "      <td>280.277008</td>\n",
       "      <td>400.648987</td>\n",
       "      <td>280.050995</td>\n",
       "      <td>326.191986</td>\n",
       "      <td>14577.0</td>\n",
       "      <td>USD</td>\n",
       "    </tr>\n",
       "    <tr>\n",
       "      <th>3</th>\n",
       "      <td>2017-11-23</td>\n",
       "      <td>326.941986</td>\n",
       "      <td>359.498993</td>\n",
       "      <td>320.864990</td>\n",
       "      <td>347.436005</td>\n",
       "      <td>1187.0</td>\n",
       "      <td>USD</td>\n",
       "    </tr>\n",
       "    <tr>\n",
       "      <th>4</th>\n",
       "      <td>2017-11-24</td>\n",
       "      <td>345.696991</td>\n",
       "      <td>408.135010</td>\n",
       "      <td>339.252991</td>\n",
       "      <td>401.825012</td>\n",
       "      <td>166167.0</td>\n",
       "      <td>USD</td>\n",
       "    </tr>\n",
       "  </tbody>\n",
       "</table>\n",
       "</div>"
      ],
      "text/plain": [
       "         Date        Open        High         Low       Close    Volume  \\\n",
       "0  2017-11-20  252.481995  278.230988  252.401993  272.449005  259174.0   \n",
       "1  2017-11-21  272.019989  288.925995  260.019012  279.920013    9649.0   \n",
       "2  2017-11-22  280.277008  400.648987  280.050995  326.191986   14577.0   \n",
       "3  2017-11-23  326.941986  359.498993  320.864990  347.436005    1187.0   \n",
       "4  2017-11-24  345.696991  408.135010  339.252991  401.825012  166167.0   \n",
       "\n",
       "  Currency  \n",
       "0      USD  \n",
       "1      USD  \n",
       "2      USD  \n",
       "3      USD  \n",
       "4      USD  "
      ]
     },
     "execution_count": 7,
     "metadata": {},
     "output_type": "execute_result"
    }
   ],
   "source": [
    "df_mkr = pd.read_csv('C:/Users/35989/Desktop/DS Project/Maker.csv')\n",
    "df_mkr.head()"
   ]
  },
  {
   "cell_type": "code",
   "execution_count": 8,
   "id": "aa653571",
   "metadata": {},
   "outputs": [
    {
     "data": {
      "text/html": [
       "<div>\n",
       "<style scoped>\n",
       "    .dataframe tbody tr th:only-of-type {\n",
       "        vertical-align: middle;\n",
       "    }\n",
       "\n",
       "    .dataframe tbody tr th {\n",
       "        vertical-align: top;\n",
       "    }\n",
       "\n",
       "    .dataframe thead th {\n",
       "        text-align: right;\n",
       "    }\n",
       "</style>\n",
       "<table border=\"1\" class=\"dataframe\">\n",
       "  <thead>\n",
       "    <tr style=\"text-align: right;\">\n",
       "      <th></th>\n",
       "      <th>Date</th>\n",
       "      <th>Open</th>\n",
       "      <th>High</th>\n",
       "      <th>Low</th>\n",
       "      <th>Close</th>\n",
       "      <th>Volume</th>\n",
       "      <th>Currency</th>\n",
       "    </tr>\n",
       "  </thead>\n",
       "  <tbody>\n",
       "    <tr>\n",
       "      <th>0</th>\n",
       "      <td>2017-11-09</td>\n",
       "      <td>0.193797</td>\n",
       "      <td>0.221762</td>\n",
       "      <td>0.189496</td>\n",
       "      <td>0.220927</td>\n",
       "      <td>7388760.0</td>\n",
       "      <td>USD</td>\n",
       "    </tr>\n",
       "    <tr>\n",
       "      <th>1</th>\n",
       "      <td>2017-11-10</td>\n",
       "      <td>0.221480</td>\n",
       "      <td>0.235801</td>\n",
       "      <td>0.185654</td>\n",
       "      <td>0.192903</td>\n",
       "      <td>10625300.0</td>\n",
       "      <td>USD</td>\n",
       "    </tr>\n",
       "    <tr>\n",
       "      <th>2</th>\n",
       "      <td>2017-11-11</td>\n",
       "      <td>0.192005</td>\n",
       "      <td>0.208632</td>\n",
       "      <td>0.184363</td>\n",
       "      <td>0.192428</td>\n",
       "      <td>6940500.0</td>\n",
       "      <td>USD</td>\n",
       "    </tr>\n",
       "    <tr>\n",
       "      <th>3</th>\n",
       "      <td>2017-11-12</td>\n",
       "      <td>0.191179</td>\n",
       "      <td>0.191179</td>\n",
       "      <td>0.165319</td>\n",
       "      <td>0.180406</td>\n",
       "      <td>12126100.0</td>\n",
       "      <td>USD</td>\n",
       "    </tr>\n",
       "    <tr>\n",
       "      <th>4</th>\n",
       "      <td>2017-11-13</td>\n",
       "      <td>0.180876</td>\n",
       "      <td>0.203314</td>\n",
       "      <td>0.180023</td>\n",
       "      <td>0.192662</td>\n",
       "      <td>7806090.0</td>\n",
       "      <td>USD</td>\n",
       "    </tr>\n",
       "  </tbody>\n",
       "</table>\n",
       "</div>"
      ],
      "text/plain": [
       "         Date      Open      High       Low     Close      Volume Currency\n",
       "0  2017-11-09  0.193797  0.221762  0.189496  0.220927   7388760.0      USD\n",
       "1  2017-11-10  0.221480  0.235801  0.185654  0.192903  10625300.0      USD\n",
       "2  2017-11-11  0.192005  0.208632  0.184363  0.192428   6940500.0      USD\n",
       "3  2017-11-12  0.191179  0.191179  0.165319  0.180406  12126100.0      USD\n",
       "4  2017-11-13  0.180876  0.203314  0.180023  0.192662   7806090.0      USD"
      ]
     },
     "execution_count": 8,
     "metadata": {},
     "output_type": "execute_result"
    }
   ],
   "source": [
    "df_nem = pd.read_csv('C:/Users/35989/Desktop/DS Project/NEM.csv')\n",
    "df_nem.head()"
   ]
  },
  {
   "cell_type": "code",
   "execution_count": 9,
   "id": "eb8f680b",
   "metadata": {},
   "outputs": [
    {
     "data": {
      "text/html": [
       "<div>\n",
       "<style scoped>\n",
       "    .dataframe tbody tr th:only-of-type {\n",
       "        vertical-align: middle;\n",
       "    }\n",
       "\n",
       "    .dataframe tbody tr th {\n",
       "        vertical-align: top;\n",
       "    }\n",
       "\n",
       "    .dataframe thead th {\n",
       "        text-align: right;\n",
       "    }\n",
       "</style>\n",
       "<table border=\"1\" class=\"dataframe\">\n",
       "  <thead>\n",
       "    <tr style=\"text-align: right;\">\n",
       "      <th></th>\n",
       "      <th>Date</th>\n",
       "      <th>Open</th>\n",
       "      <th>High</th>\n",
       "      <th>Low</th>\n",
       "      <th>Close</th>\n",
       "      <th>Volume</th>\n",
       "      <th>Currency</th>\n",
       "    </tr>\n",
       "  </thead>\n",
       "  <tbody>\n",
       "    <tr>\n",
       "      <th>0</th>\n",
       "      <td>2017-02-22</td>\n",
       "      <td>0.00204</td>\n",
       "      <td>0.00209</td>\n",
       "      <td>0.00194</td>\n",
       "      <td>0.00203</td>\n",
       "      <td>7523981</td>\n",
       "      <td>USD</td>\n",
       "    </tr>\n",
       "    <tr>\n",
       "      <th>1</th>\n",
       "      <td>2017-02-23</td>\n",
       "      <td>0.00203</td>\n",
       "      <td>0.00207</td>\n",
       "      <td>0.00194</td>\n",
       "      <td>0.00201</td>\n",
       "      <td>48686</td>\n",
       "      <td>USD</td>\n",
       "    </tr>\n",
       "    <tr>\n",
       "      <th>2</th>\n",
       "      <td>2017-02-24</td>\n",
       "      <td>0.00201</td>\n",
       "      <td>0.00201</td>\n",
       "      <td>0.00201</td>\n",
       "      <td>0.00201</td>\n",
       "      <td>0</td>\n",
       "      <td>USD</td>\n",
       "    </tr>\n",
       "    <tr>\n",
       "      <th>3</th>\n",
       "      <td>2017-02-25</td>\n",
       "      <td>0.00188</td>\n",
       "      <td>0.00194</td>\n",
       "      <td>0.00182</td>\n",
       "      <td>0.00189</td>\n",
       "      <td>691874</td>\n",
       "      <td>USD</td>\n",
       "    </tr>\n",
       "    <tr>\n",
       "      <th>4</th>\n",
       "      <td>2017-02-26</td>\n",
       "      <td>0.00189</td>\n",
       "      <td>0.00195</td>\n",
       "      <td>0.00178</td>\n",
       "      <td>0.00190</td>\n",
       "      <td>2093558</td>\n",
       "      <td>USD</td>\n",
       "    </tr>\n",
       "  </tbody>\n",
       "</table>\n",
       "</div>"
      ],
      "text/plain": [
       "         Date     Open     High      Low    Close   Volume Currency\n",
       "0  2017-02-22  0.00204  0.00209  0.00194  0.00203  7523981      USD\n",
       "1  2017-02-23  0.00203  0.00207  0.00194  0.00201    48686      USD\n",
       "2  2017-02-24  0.00201  0.00201  0.00201  0.00201        0      USD\n",
       "3  2017-02-25  0.00188  0.00194  0.00182  0.00189   691874      USD\n",
       "4  2017-02-26  0.00189  0.00195  0.00178  0.00190  2093558      USD"
      ]
     },
     "execution_count": 9,
     "metadata": {},
     "output_type": "execute_result"
    }
   ],
   "source": [
    "df_xlm = pd.read_csv('C:/Users/35989/Desktop/DS Project/stellar.csv')\n",
    "df_xlm.head()"
   ]
  },
  {
   "cell_type": "code",
   "execution_count": 10,
   "id": "264abe3f",
   "metadata": {},
   "outputs": [
    {
     "data": {
      "text/html": [
       "<div>\n",
       "<style scoped>\n",
       "    .dataframe tbody tr th:only-of-type {\n",
       "        vertical-align: middle;\n",
       "    }\n",
       "\n",
       "    .dataframe tbody tr th {\n",
       "        vertical-align: top;\n",
       "    }\n",
       "\n",
       "    .dataframe thead th {\n",
       "        text-align: right;\n",
       "    }\n",
       "</style>\n",
       "<table border=\"1\" class=\"dataframe\">\n",
       "  <thead>\n",
       "    <tr style=\"text-align: right;\">\n",
       "      <th></th>\n",
       "      <th>Date</th>\n",
       "      <th>Open</th>\n",
       "      <th>High</th>\n",
       "      <th>Low</th>\n",
       "      <th>Close</th>\n",
       "      <th>Volume</th>\n",
       "      <th>Currency</th>\n",
       "    </tr>\n",
       "  </thead>\n",
       "  <tbody>\n",
       "    <tr>\n",
       "      <th>0</th>\n",
       "      <td>2017-11-14</td>\n",
       "      <td>0.002130</td>\n",
       "      <td>0.002589</td>\n",
       "      <td>0.002098</td>\n",
       "      <td>0.002492</td>\n",
       "      <td>303515200</td>\n",
       "      <td>USD</td>\n",
       "    </tr>\n",
       "    <tr>\n",
       "      <th>1</th>\n",
       "      <td>2017-11-15</td>\n",
       "      <td>0.002492</td>\n",
       "      <td>0.002600</td>\n",
       "      <td>0.002211</td>\n",
       "      <td>0.002278</td>\n",
       "      <td>403097184</td>\n",
       "      <td>USD</td>\n",
       "    </tr>\n",
       "    <tr>\n",
       "      <th>2</th>\n",
       "      <td>2017-11-16</td>\n",
       "      <td>0.002278</td>\n",
       "      <td>0.002315</td>\n",
       "      <td>0.001783</td>\n",
       "      <td>0.002156</td>\n",
       "      <td>557621696</td>\n",
       "      <td>USD</td>\n",
       "    </tr>\n",
       "    <tr>\n",
       "      <th>3</th>\n",
       "      <td>2017-11-17</td>\n",
       "      <td>0.002156</td>\n",
       "      <td>0.002200</td>\n",
       "      <td>0.001900</td>\n",
       "      <td>0.001911</td>\n",
       "      <td>939786048</td>\n",
       "      <td>USD</td>\n",
       "    </tr>\n",
       "    <tr>\n",
       "      <th>4</th>\n",
       "      <td>2017-11-18</td>\n",
       "      <td>0.001911</td>\n",
       "      <td>0.002116</td>\n",
       "      <td>0.001900</td>\n",
       "      <td>0.002006</td>\n",
       "      <td>1060941184</td>\n",
       "      <td>USD</td>\n",
       "    </tr>\n",
       "  </tbody>\n",
       "</table>\n",
       "</div>"
      ],
      "text/plain": [
       "         Date      Open      High       Low     Close      Volume Currency\n",
       "0  2017-11-14  0.002130  0.002589  0.002098  0.002492   303515200      USD\n",
       "1  2017-11-15  0.002492  0.002600  0.002211  0.002278   403097184      USD\n",
       "2  2017-11-16  0.002278  0.002315  0.001783  0.002156   557621696      USD\n",
       "3  2017-11-17  0.002156  0.002200  0.001900  0.001911   939786048      USD\n",
       "4  2017-11-18  0.001911  0.002116  0.001900  0.002006  1060941184      USD"
      ]
     },
     "execution_count": 10,
     "metadata": {},
     "output_type": "execute_result"
    }
   ],
   "source": [
    "df_trx = pd.read_csv('C:/Users/35989/Desktop/DS Project/tron.csv')\n",
    "df_trx.head()"
   ]
  },
  {
   "cell_type": "code",
   "execution_count": 11,
   "id": "19613f69",
   "metadata": {},
   "outputs": [
    {
     "data": {
      "text/html": [
       "<div>\n",
       "<style scoped>\n",
       "    .dataframe tbody tr th:only-of-type {\n",
       "        vertical-align: middle;\n",
       "    }\n",
       "\n",
       "    .dataframe tbody tr th {\n",
       "        vertical-align: top;\n",
       "    }\n",
       "\n",
       "    .dataframe thead th {\n",
       "        text-align: right;\n",
       "    }\n",
       "</style>\n",
       "<table border=\"1\" class=\"dataframe\">\n",
       "  <thead>\n",
       "    <tr style=\"text-align: right;\">\n",
       "      <th></th>\n",
       "      <th>Date</th>\n",
       "      <th>Open</th>\n",
       "      <th>High</th>\n",
       "      <th>Low</th>\n",
       "      <th>Close</th>\n",
       "      <th>Volume</th>\n",
       "      <th>Currency</th>\n",
       "    </tr>\n",
       "  </thead>\n",
       "  <tbody>\n",
       "    <tr>\n",
       "      <th>0</th>\n",
       "      <td>2017-11-09</td>\n",
       "      <td>250.552994</td>\n",
       "      <td>270.177002</td>\n",
       "      <td>244.143005</td>\n",
       "      <td>261.998993</td>\n",
       "      <td>86573400.0</td>\n",
       "      <td>USD</td>\n",
       "    </tr>\n",
       "    <tr>\n",
       "      <th>1</th>\n",
       "      <td>2017-11-10</td>\n",
       "      <td>261.954987</td>\n",
       "      <td>272.757996</td>\n",
       "      <td>231.582001</td>\n",
       "      <td>237.882996</td>\n",
       "      <td>78740400.0</td>\n",
       "      <td>USD</td>\n",
       "    </tr>\n",
       "    <tr>\n",
       "      <th>2</th>\n",
       "      <td>2017-11-11</td>\n",
       "      <td>238.162003</td>\n",
       "      <td>269.717010</td>\n",
       "      <td>236.244995</td>\n",
       "      <td>253.598999</td>\n",
       "      <td>68016096.0</td>\n",
       "      <td>USD</td>\n",
       "    </tr>\n",
       "    <tr>\n",
       "      <th>3</th>\n",
       "      <td>2017-11-12</td>\n",
       "      <td>253.625000</td>\n",
       "      <td>288.670990</td>\n",
       "      <td>231.677994</td>\n",
       "      <td>288.670990</td>\n",
       "      <td>119639000.0</td>\n",
       "      <td>USD</td>\n",
       "    </tr>\n",
       "    <tr>\n",
       "      <th>4</th>\n",
       "      <td>2017-11-13</td>\n",
       "      <td>298.734009</td>\n",
       "      <td>298.734009</td>\n",
       "      <td>258.329010</td>\n",
       "      <td>265.453003</td>\n",
       "      <td>115940000.0</td>\n",
       "      <td>USD</td>\n",
       "    </tr>\n",
       "  </tbody>\n",
       "</table>\n",
       "</div>"
      ],
      "text/plain": [
       "         Date        Open        High         Low       Close       Volume  \\\n",
       "0  2017-11-09  250.552994  270.177002  244.143005  261.998993   86573400.0   \n",
       "1  2017-11-10  261.954987  272.757996  231.582001  237.882996   78740400.0   \n",
       "2  2017-11-11  238.162003  269.717010  236.244995  253.598999   68016096.0   \n",
       "3  2017-11-12  253.625000  288.670990  231.677994  288.670990  119639000.0   \n",
       "4  2017-11-13  298.734009  298.734009  258.329010  265.453003  115940000.0   \n",
       "\n",
       "  Currency  \n",
       "0      USD  \n",
       "1      USD  \n",
       "2      USD  \n",
       "3      USD  \n",
       "4      USD  "
      ]
     },
     "execution_count": 11,
     "metadata": {},
     "output_type": "execute_result"
    }
   ],
   "source": [
    "df_zec = pd.read_csv('C:/Users/35989/Desktop/DS Project/Zcash.csv')\n",
    "df_zec.head()"
   ]
  },
  {
   "cell_type": "markdown",
   "id": "a2b9d88a",
   "metadata": {},
   "source": [
    "#### 2.3.2. NFTs Data\n",
    "\n",
    "Concerning the data on NFTs, striving to get a fuller picture of the NFT market dynamics, and not just of one single NFT collection, I managed to source information from the statistics and analytics website [NonFungible](https://nonfungible.com/market-tracker). I was able to find data on all NFT sales for the period since June 2017 until today.\n",
    "\n",
    "For the MANA's historical data I countd again on Kaggle."
   ]
  },
  {
   "cell_type": "code",
   "execution_count": 12,
   "id": "b37951e8",
   "metadata": {},
   "outputs": [
    {
     "data": {
      "text/html": [
       "<div>\n",
       "<style scoped>\n",
       "    .dataframe tbody tr th:only-of-type {\n",
       "        vertical-align: middle;\n",
       "    }\n",
       "\n",
       "    .dataframe tbody tr th {\n",
       "        vertical-align: top;\n",
       "    }\n",
       "\n",
       "    .dataframe thead th {\n",
       "        text-align: right;\n",
       "    }\n",
       "</style>\n",
       "<table border=\"1\" class=\"dataframe\">\n",
       "  <thead>\n",
       "    <tr style=\"text-align: right;\">\n",
       "      <th></th>\n",
       "      <th>DateTime</th>\n",
       "      <th>Number of sales</th>\n",
       "      <th>Sales USD</th>\n",
       "    </tr>\n",
       "  </thead>\n",
       "  <tbody>\n",
       "    <tr>\n",
       "      <th>0</th>\n",
       "      <td>2017-06-23 00:00:00</td>\n",
       "      <td>19</td>\n",
       "      <td>1020.30</td>\n",
       "    </tr>\n",
       "    <tr>\n",
       "      <th>1</th>\n",
       "      <td>2017-06-24 00:00:00</td>\n",
       "      <td>21</td>\n",
       "      <td>1240.84</td>\n",
       "    </tr>\n",
       "    <tr>\n",
       "      <th>2</th>\n",
       "      <td>2017-06-25 00:00:00</td>\n",
       "      <td>13</td>\n",
       "      <td>517.55</td>\n",
       "    </tr>\n",
       "    <tr>\n",
       "      <th>3</th>\n",
       "      <td>2017-06-26 00:00:00</td>\n",
       "      <td>14</td>\n",
       "      <td>424.63</td>\n",
       "    </tr>\n",
       "    <tr>\n",
       "      <th>4</th>\n",
       "      <td>2017-06-27 00:00:00</td>\n",
       "      <td>33</td>\n",
       "      <td>2092.91</td>\n",
       "    </tr>\n",
       "  </tbody>\n",
       "</table>\n",
       "</div>"
      ],
      "text/plain": [
       "              DateTime  Number of sales  Sales USD\n",
       "0  2017-06-23 00:00:00               19    1020.30\n",
       "1  2017-06-24 00:00:00               21    1240.84\n",
       "2  2017-06-25 00:00:00               13     517.55\n",
       "3  2017-06-26 00:00:00               14     424.63\n",
       "4  2017-06-27 00:00:00               33    2092.91"
      ]
     },
     "execution_count": 12,
     "metadata": {},
     "output_type": "execute_result"
    }
   ],
   "source": [
    "df_allnfts = pd.read_csv('C:/Users/35989/Desktop/DS Project/allcategories_nfts_chart.csv')\n",
    "df_allnfts.head()"
   ]
  },
  {
   "cell_type": "code",
   "execution_count": 13,
   "id": "d288498e",
   "metadata": {},
   "outputs": [
    {
     "data": {
      "text/html": [
       "<div>\n",
       "<style scoped>\n",
       "    .dataframe tbody tr th:only-of-type {\n",
       "        vertical-align: middle;\n",
       "    }\n",
       "\n",
       "    .dataframe tbody tr th {\n",
       "        vertical-align: top;\n",
       "    }\n",
       "\n",
       "    .dataframe thead th {\n",
       "        text-align: right;\n",
       "    }\n",
       "</style>\n",
       "<table border=\"1\" class=\"dataframe\">\n",
       "  <thead>\n",
       "    <tr style=\"text-align: right;\">\n",
       "      <th></th>\n",
       "      <th>Date</th>\n",
       "      <th>Open</th>\n",
       "      <th>High</th>\n",
       "      <th>Low</th>\n",
       "      <th>Close</th>\n",
       "      <th>Volume</th>\n",
       "      <th>Currency</th>\n",
       "    </tr>\n",
       "  </thead>\n",
       "  <tbody>\n",
       "    <tr>\n",
       "      <th>0</th>\n",
       "      <td>2017-11-09</td>\n",
       "      <td>0.014329</td>\n",
       "      <td>0.016111</td>\n",
       "      <td>0.013886</td>\n",
       "      <td>0.015130</td>\n",
       "      <td>653800</td>\n",
       "      <td>USD</td>\n",
       "    </tr>\n",
       "    <tr>\n",
       "      <th>1</th>\n",
       "      <td>2017-11-10</td>\n",
       "      <td>0.015162</td>\n",
       "      <td>0.015734</td>\n",
       "      <td>0.012645</td>\n",
       "      <td>0.012940</td>\n",
       "      <td>296429</td>\n",
       "      <td>USD</td>\n",
       "    </tr>\n",
       "    <tr>\n",
       "      <th>2</th>\n",
       "      <td>2017-11-11</td>\n",
       "      <td>0.013201</td>\n",
       "      <td>0.013616</td>\n",
       "      <td>0.011758</td>\n",
       "      <td>0.011979</td>\n",
       "      <td>237865</td>\n",
       "      <td>USD</td>\n",
       "    </tr>\n",
       "    <tr>\n",
       "      <th>3</th>\n",
       "      <td>2017-11-12</td>\n",
       "      <td>0.011975</td>\n",
       "      <td>0.011975</td>\n",
       "      <td>0.010125</td>\n",
       "      <td>0.010505</td>\n",
       "      <td>242761</td>\n",
       "      <td>USD</td>\n",
       "    </tr>\n",
       "    <tr>\n",
       "      <th>4</th>\n",
       "      <td>2017-11-13</td>\n",
       "      <td>0.010628</td>\n",
       "      <td>0.011660</td>\n",
       "      <td>0.010628</td>\n",
       "      <td>0.011330</td>\n",
       "      <td>225836</td>\n",
       "      <td>USD</td>\n",
       "    </tr>\n",
       "  </tbody>\n",
       "</table>\n",
       "</div>"
      ],
      "text/plain": [
       "         Date      Open      High       Low     Close  Volume Currency\n",
       "0  2017-11-09  0.014329  0.016111  0.013886  0.015130  653800      USD\n",
       "1  2017-11-10  0.015162  0.015734  0.012645  0.012940  296429      USD\n",
       "2  2017-11-11  0.013201  0.013616  0.011758  0.011979  237865      USD\n",
       "3  2017-11-12  0.011975  0.011975  0.010125  0.010505  242761      USD\n",
       "4  2017-11-13  0.010628  0.011660  0.010628  0.011330  225836      USD"
      ]
     },
     "execution_count": 13,
     "metadata": {},
     "output_type": "execute_result"
    }
   ],
   "source": [
    "df_dcntrl = pd.read_csv('C:/Users/35989/Desktop/DS Project/Decentraland.csv')\n",
    "df_dcntrl.head()"
   ]
  },
  {
   "cell_type": "markdown",
   "id": "324311f9",
   "metadata": {},
   "source": [
    "### 2.4 Get Your Data Clean and Tidy\n",
    "\n",
    "For each one of the crypto assets spreadsheets, I need to:\n",
    "1. Assume all prices are represented in USD, so there is no need to keep the USD column.\n",
    "2. Get the Date and Price/Close/Adj Close Price columns. The rest can be dropped.\n",
    "3. Convert the Date column of all spreadsheets into one universal format.\n",
    "4. Rename the Price/Close/Adj Close Price columns to include the currency's ticker.\n",
    "5. Merge all dataframes by the column \"Date\", so as the Price/Close Price columns become columns in the new dataframe. \n",
    "6. Remove index columns and NAN cells.\n",
    "\n",
    "For the CryptoPunks and the All NFTs spreadsheets:\n",
    "1. Convert the Date column into the same universal format as with the cryptocurrencies.\n",
    "2. Find the Average Sale Price for each NFT asset by dividing the Sales USD by the Number of Sales. \n",
    "3. Merge the columns of Average NFTs Price, MANA's Close Price, and BTC Price into one dataframe.\n",
    "4. Remove index columns and NAN cells."
   ]
  },
  {
   "cell_type": "code",
   "execution_count": 14,
   "id": "b9d0f72c",
   "metadata": {},
   "outputs": [],
   "source": [
    "#Dropping unnecessary columns and renaming the \"Price\" columns\n",
    "#1\n",
    "df_btc_eth = df_btc_eth.drop(['Adj Close (BNB)', 'Volume (BNB)', 'Volume (BTC)', 'Adj Close (USDT)', 'Volume (USDT)', 'Volume (ETH)'], axis=1)\n",
    "df_btc_eth = df_btc_eth.rename(columns={\"Adj Close (BTC)\":\"BTC Price\", \"Adj Close (ETH)\":\"ETH Price\"})"
   ]
  },
  {
   "cell_type": "code",
   "execution_count": 15,
   "id": "27b15ce5",
   "metadata": {},
   "outputs": [],
   "source": [
    "#2\n",
    "df_ada = df_ada.drop(['Open', 'High', 'Low', 'Close', 'Volume'], axis=1)\n",
    "df_ada = df_ada.rename(columns={\"Adj Close\":\"ADA Price\"})"
   ]
  },
  {
   "cell_type": "code",
   "execution_count": 16,
   "id": "e0c5a43a",
   "metadata": {},
   "outputs": [],
   "source": [
    "#3\n",
    "df_eos = df_eos.drop(['Open', 'High', 'Low', 'Volume', 'Currency'], axis=1)\n",
    "df_eos = df_eos.rename(columns={'Close':'EOS Price'})"
   ]
  },
  {
   "cell_type": "code",
   "execution_count": 17,
   "id": "9b119309",
   "metadata": {},
   "outputs": [],
   "source": [
    "#4\n",
    "df_ltc = df_ltc.drop(['Open', 'High', 'Low', 'Volume', 'Currency'], axis=1)\n",
    "df_ltc = df_ltc.rename(columns={'Close':'LTC Price'})"
   ]
  },
  {
   "cell_type": "code",
   "execution_count": 18,
   "id": "c36783d0",
   "metadata": {},
   "outputs": [],
   "source": [
    "#5\n",
    "df_mkr = df_mkr.drop(['Open', 'High', 'Low', 'Volume', 'Currency'], axis=1)\n",
    "df_mkr = df_mkr.rename(columns={'Close':'MKR Price'})"
   ]
  },
  {
   "cell_type": "code",
   "execution_count": 19,
   "id": "df78be36",
   "metadata": {},
   "outputs": [],
   "source": [
    "#6\n",
    "df_nem = df_nem.drop(['Open', 'High', 'Low', 'Volume', 'Currency'], axis=1)\n",
    "df_nem = df_nem.rename(columns={'Close':'NEM Price'})"
   ]
  },
  {
   "cell_type": "code",
   "execution_count": 20,
   "id": "249f9016",
   "metadata": {},
   "outputs": [],
   "source": [
    "#7\n",
    "df_xlm = df_xlm.drop(['Open', 'High', 'Low', 'Volume', 'Currency'], axis=1)\n",
    "df_xlm = df_xlm.rename(columns={'Close':'XLM Price'})"
   ]
  },
  {
   "cell_type": "code",
   "execution_count": 21,
   "id": "1b6993b4",
   "metadata": {},
   "outputs": [],
   "source": [
    "#8\n",
    "df_trx = df_trx.drop(['Open', 'High', 'Low', 'Volume', 'Currency'], axis=1)\n",
    "df_trx = df_trx.rename(columns={'Close':'TRX Price'})"
   ]
  },
  {
   "cell_type": "code",
   "execution_count": 22,
   "id": "78de5187",
   "metadata": {},
   "outputs": [],
   "source": [
    "#9\n",
    "df_zec = df_zec.drop(['Open', 'High', 'Low', 'Volume', 'Currency'], axis=1)\n",
    "df_zec = df_zec.rename(columns={'Close':'ZEC Price'})"
   ]
  },
  {
   "cell_type": "code",
   "execution_count": 23,
   "id": "0c4a04cc",
   "metadata": {},
   "outputs": [],
   "source": [
    "#Resetting the indices to prepare for merging\n",
    "df_btc_eth = df_btc_eth.reset_index()\n",
    "df_ada = df_ada.reset_index()\n",
    "df_eos = df_eos.reset_index() \n",
    "df_ltc = df_ltc.reset_index()\n",
    "df_mkr = df_mkr.reset_index()\n",
    "df_nem = df_nem.reset_index()\n",
    "df_xlm = df_xlm.reset_index()\n",
    "df_trx = df_trx.reset_index()\n",
    "df_zec = df_zec.reset_index()"
   ]
  },
  {
   "cell_type": "code",
   "execution_count": 24,
   "id": "3ad32364",
   "metadata": {},
   "outputs": [],
   "source": [
    "#Merging the dataframes into one. Choosing between Right and Left Join according to the timeframe I have data for.\n",
    "#Converting the \"Date\" column to dtype('<M8[ns]') to avoid getting errors\n",
    "df_btc_eth['Date'] = pd.to_datetime(df_btc_eth['Date'])\n",
    "df_ada['Date'] = pd.to_datetime(df_ada['Date'])\n",
    "df_eos['Date'] = pd.to_datetime(df_eos['Date'])\n",
    "df_ltc['Date'] = pd.to_datetime(df_ltc['Date'])\n",
    "df_mkr['Date'] = pd.to_datetime(df_mkr['Date'])\n",
    "df_nem['Date'] = pd.to_datetime(df_nem['Date'])\n",
    "df_xlm['Date'] = pd.to_datetime(df_xlm['Date'])\n",
    "df_trx['Date'] = pd.to_datetime(df_trx['Date'])\n",
    "df_zec['Date'] = pd.to_datetime(df_zec['Date'])"
   ]
  },
  {
   "cell_type": "code",
   "execution_count": 25,
   "id": "5cc16dae",
   "metadata": {},
   "outputs": [],
   "source": [
    "#Merging the BTC_ETH and the ADA dataframe. Dropping NANs that were generated because of difference in timeframes\n",
    "#Two newly-generating columns appeares because the date sequence of the two dataframes was different. Dropping them\n",
    "df_new1 = pd.merge(df_btc_eth, df_ada, on='Date', how='right').dropna()\n",
    "df_new1 = df_new1.drop(['index_x', 'index_y'], axis=1)"
   ]
  },
  {
   "cell_type": "code",
   "execution_count": 26,
   "id": "edb1b1d1",
   "metadata": {},
   "outputs": [],
   "source": [
    "#Merging the new DF with the rest of the Cryptocurrency dataframes.\n",
    "df_new2 = pd.merge(df_new1, df_eos, on='Date', how='right').dropna()\n",
    "df_new2 = df_new2.drop(['index'], axis=1)"
   ]
  },
  {
   "cell_type": "code",
   "execution_count": 27,
   "id": "9060bf1f",
   "metadata": {},
   "outputs": [],
   "source": [
    "df_new3 = pd.merge(df_new2, df_ltc, on='Date', how='left')\n",
    "df_new3 = df_new3.drop(['index'], axis=1)"
   ]
  },
  {
   "cell_type": "code",
   "execution_count": 28,
   "id": "59607636",
   "metadata": {
    "scrolled": true
   },
   "outputs": [],
   "source": [
    "df_new4 = pd.merge(df_new3, df_mkr, on='Date', how='left').dropna()\n",
    "df_new4 = df_new4.drop(['index'], axis=1)"
   ]
  },
  {
   "cell_type": "code",
   "execution_count": 29,
   "id": "31066452",
   "metadata": {},
   "outputs": [],
   "source": [
    "df_new5 = pd.merge(df_new4, df_nem, on='Date', how='left').dropna()\n",
    "df_new5 = df_new5.drop(['index'], axis=1)"
   ]
  },
  {
   "cell_type": "code",
   "execution_count": 30,
   "id": "5b3d6083",
   "metadata": {},
   "outputs": [],
   "source": [
    "df_new6 = pd.merge(df_new5, df_xlm, on='Date', how='left').dropna()\n",
    "df_new6 = df_new6.drop(['index'], axis=1)"
   ]
  },
  {
   "cell_type": "code",
   "execution_count": 31,
   "id": "95a394b0",
   "metadata": {},
   "outputs": [],
   "source": [
    "df_new7 = pd.merge(df_new6, df_trx, on='Date', how='left').dropna()\n",
    "df_new7 = df_new7.drop(['index'], axis=1)"
   ]
  },
  {
   "cell_type": "code",
   "execution_count": 32,
   "id": "062ef3c6",
   "metadata": {
    "scrolled": true
   },
   "outputs": [
    {
     "data": {
      "text/html": [
       "<div>\n",
       "<style scoped>\n",
       "    .dataframe tbody tr th:only-of-type {\n",
       "        vertical-align: middle;\n",
       "    }\n",
       "\n",
       "    .dataframe tbody tr th {\n",
       "        vertical-align: top;\n",
       "    }\n",
       "\n",
       "    .dataframe thead th {\n",
       "        text-align: right;\n",
       "    }\n",
       "</style>\n",
       "<table border=\"1\" class=\"dataframe\">\n",
       "  <thead>\n",
       "    <tr style=\"text-align: right;\">\n",
       "      <th></th>\n",
       "      <th>Date</th>\n",
       "      <th>BTC Price</th>\n",
       "      <th>ETH Price</th>\n",
       "      <th>ADA Price</th>\n",
       "      <th>EOS Price</th>\n",
       "      <th>LTC Price</th>\n",
       "      <th>MKR Price</th>\n",
       "      <th>NEM Price</th>\n",
       "      <th>XLM Price</th>\n",
       "      <th>TRX Price</th>\n",
       "      <th>ZEC Price</th>\n",
       "    </tr>\n",
       "  </thead>\n",
       "  <tbody>\n",
       "    <tr>\n",
       "      <th>0</th>\n",
       "      <td>2017-11-20</td>\n",
       "      <td>8200.639648</td>\n",
       "      <td>366.730011</td>\n",
       "      <td>0.029581</td>\n",
       "      <td>1.99400</td>\n",
       "      <td>72.62</td>\n",
       "      <td>272.449005</td>\n",
       "      <td>0.213041</td>\n",
       "      <td>0.03840</td>\n",
       "      <td>0.002156</td>\n",
       "      <td>302.165985</td>\n",
       "    </tr>\n",
       "    <tr>\n",
       "      <th>1</th>\n",
       "      <td>2017-11-21</td>\n",
       "      <td>8071.259766</td>\n",
       "      <td>360.401001</td>\n",
       "      <td>0.028330</td>\n",
       "      <td>1.90416</td>\n",
       "      <td>70.00</td>\n",
       "      <td>279.920013</td>\n",
       "      <td>0.202712</td>\n",
       "      <td>0.03787</td>\n",
       "      <td>0.002146</td>\n",
       "      <td>290.636993</td>\n",
       "    </tr>\n",
       "    <tr>\n",
       "      <th>2</th>\n",
       "      <td>2017-11-22</td>\n",
       "      <td>8253.549805</td>\n",
       "      <td>380.652008</td>\n",
       "      <td>0.028549</td>\n",
       "      <td>1.88525</td>\n",
       "      <td>72.31</td>\n",
       "      <td>326.191986</td>\n",
       "      <td>0.203891</td>\n",
       "      <td>0.04229</td>\n",
       "      <td>0.002347</td>\n",
       "      <td>319.731995</td>\n",
       "    </tr>\n",
       "    <tr>\n",
       "      <th>3</th>\n",
       "      <td>2017-11-23</td>\n",
       "      <td>8038.770020</td>\n",
       "      <td>410.165985</td>\n",
       "      <td>0.027444</td>\n",
       "      <td>1.89173</td>\n",
       "      <td>73.30</td>\n",
       "      <td>347.436005</td>\n",
       "      <td>0.201437</td>\n",
       "      <td>0.04015</td>\n",
       "      <td>0.002172</td>\n",
       "      <td>311.550995</td>\n",
       "    </tr>\n",
       "    <tr>\n",
       "      <th>4</th>\n",
       "      <td>2017-11-24</td>\n",
       "      <td>8253.690430</td>\n",
       "      <td>474.911011</td>\n",
       "      <td>0.028382</td>\n",
       "      <td>1.88347</td>\n",
       "      <td>77.54</td>\n",
       "      <td>401.825012</td>\n",
       "      <td>0.209109</td>\n",
       "      <td>0.04004</td>\n",
       "      <td>0.002022</td>\n",
       "      <td>346.364014</td>\n",
       "    </tr>\n",
       "  </tbody>\n",
       "</table>\n",
       "</div>"
      ],
      "text/plain": [
       "        Date    BTC Price   ETH Price  ADA Price  EOS Price  LTC Price  \\\n",
       "0 2017-11-20  8200.639648  366.730011   0.029581    1.99400      72.62   \n",
       "1 2017-11-21  8071.259766  360.401001   0.028330    1.90416      70.00   \n",
       "2 2017-11-22  8253.549805  380.652008   0.028549    1.88525      72.31   \n",
       "3 2017-11-23  8038.770020  410.165985   0.027444    1.89173      73.30   \n",
       "4 2017-11-24  8253.690430  474.911011   0.028382    1.88347      77.54   \n",
       "\n",
       "    MKR Price  NEM Price  XLM Price  TRX Price   ZEC Price  \n",
       "0  272.449005   0.213041    0.03840   0.002156  302.165985  \n",
       "1  279.920013   0.202712    0.03787   0.002146  290.636993  \n",
       "2  326.191986   0.203891    0.04229   0.002347  319.731995  \n",
       "3  347.436005   0.201437    0.04015   0.002172  311.550995  \n",
       "4  401.825012   0.209109    0.04004   0.002022  346.364014  "
      ]
     },
     "execution_count": 32,
     "metadata": {},
     "output_type": "execute_result"
    }
   ],
   "source": [
    "df_final = pd.merge(df_new7, df_zec, on='Date', how='left').dropna()\n",
    "df_final = df_final.drop(['index'], axis=1)\n",
    "df_final.head()"
   ]
  },
  {
   "cell_type": "code",
   "execution_count": 33,
   "id": "9efd8faa",
   "metadata": {},
   "outputs": [],
   "source": [
    "#Cleaning and tidying the NFT dataframes in the same way\n",
    "df_allnfts = df_allnfts.rename(columns={'DateTime':'Date'})"
   ]
  },
  {
   "cell_type": "code",
   "execution_count": 34,
   "id": "c7a6c82c",
   "metadata": {},
   "outputs": [],
   "source": [
    "df_allnfts['Date'] = pd.to_datetime(df_allnfts['Date']).dt.date\n",
    "df_dcntrl['Date'] = pd.to_datetime(df_dcntrl['Date']).dt.date"
   ]
  },
  {
   "cell_type": "code",
   "execution_count": 35,
   "id": "4d3f6b45",
   "metadata": {},
   "outputs": [],
   "source": [
    "#Creating new columns with the average price of a single NFT\n",
    "#Dropping the unnecessary columns\n",
    "df_allnfts['Average NFT Price'] = round(df_allnfts['Sales USD']/df_allnfts['Number of sales'])\n",
    "df_allnfts = df_allnfts.dropna()\n",
    "df_allnfts = df_allnfts.drop(['Number of sales', 'Sales USD'], axis=1)"
   ]
  },
  {
   "cell_type": "code",
   "execution_count": 36,
   "id": "aa59b85f",
   "metadata": {},
   "outputs": [],
   "source": [
    "#Merging the two NFT dataframes into one and joining it with the BTC_ETH dataframe.\n",
    "df_nft1 = pd.merge(df_allnfts, df_dcntrl, how='right', on='Date')\n",
    "df_nft1 = df_nft1.drop(['Open', 'High', 'Low', 'Volume', 'Currency'], axis=1)\n",
    "df_nft1 = df_nft1.rename(columns={'Close':'MANA Price'})\n",
    "df_nft1 = df_nft1.dropna()"
   ]
  },
  {
   "cell_type": "code",
   "execution_count": 37,
   "id": "838fd15a",
   "metadata": {},
   "outputs": [],
   "source": [
    "df_nft1['Date'] = pd.to_datetime(df_nft1['Date'])\n",
    "df_btc_eth['Date'] = pd.to_datetime(df_btc_eth['Date'])"
   ]
  },
  {
   "cell_type": "code",
   "execution_count": 38,
   "id": "7e867185",
   "metadata": {
    "scrolled": true
   },
   "outputs": [],
   "source": [
    "df_nft = pd.merge(df_nft1, df_btc_eth, how='left', on='Date').dropna()\n",
    "df_nft = df_nft.drop(['index', 'ETH Price'], axis=1)"
   ]
  },
  {
   "cell_type": "code",
   "execution_count": 106,
   "id": "45cbd762",
   "metadata": {},
   "outputs": [
    {
     "data": {
      "text/html": [
       "<div>\n",
       "<style scoped>\n",
       "    .dataframe tbody tr th:only-of-type {\n",
       "        vertical-align: middle;\n",
       "    }\n",
       "\n",
       "    .dataframe tbody tr th {\n",
       "        vertical-align: top;\n",
       "    }\n",
       "\n",
       "    .dataframe thead th {\n",
       "        text-align: right;\n",
       "    }\n",
       "</style>\n",
       "<table border=\"1\" class=\"dataframe\">\n",
       "  <thead>\n",
       "    <tr style=\"text-align: right;\">\n",
       "      <th></th>\n",
       "      <th>Date</th>\n",
       "      <th>Average NFT Price</th>\n",
       "      <th>MANA Price</th>\n",
       "      <th>BTC Price</th>\n",
       "    </tr>\n",
       "  </thead>\n",
       "  <tbody>\n",
       "    <tr>\n",
       "      <th>1</th>\n",
       "      <td>2017-11-12</td>\n",
       "      <td>91.0</td>\n",
       "      <td>0.010505</td>\n",
       "      <td>16936.800781</td>\n",
       "    </tr>\n",
       "    <tr>\n",
       "      <th>2</th>\n",
       "      <td>2017-11-13</td>\n",
       "      <td>32.0</td>\n",
       "      <td>0.011330</td>\n",
       "      <td>6559.490234</td>\n",
       "    </tr>\n",
       "    <tr>\n",
       "      <th>3</th>\n",
       "      <td>2017-11-14</td>\n",
       "      <td>68.0</td>\n",
       "      <td>0.011419</td>\n",
       "      <td>6635.750000</td>\n",
       "    </tr>\n",
       "    <tr>\n",
       "      <th>4</th>\n",
       "      <td>2017-11-15</td>\n",
       "      <td>69.0</td>\n",
       "      <td>0.012002</td>\n",
       "      <td>7315.540039</td>\n",
       "    </tr>\n",
       "    <tr>\n",
       "      <th>5</th>\n",
       "      <td>2017-11-19</td>\n",
       "      <td>35.0</td>\n",
       "      <td>0.013099</td>\n",
       "      <td>8036.490234</td>\n",
       "    </tr>\n",
       "  </tbody>\n",
       "</table>\n",
       "</div>"
      ],
      "text/plain": [
       "        Date  Average NFT Price  MANA Price     BTC Price\n",
       "1 2017-11-12               91.0    0.010505  16936.800781\n",
       "2 2017-11-13               32.0    0.011330   6559.490234\n",
       "3 2017-11-14               68.0    0.011419   6635.750000\n",
       "4 2017-11-15               69.0    0.012002   7315.540039\n",
       "5 2017-11-19               35.0    0.013099   8036.490234"
      ]
     },
     "execution_count": 106,
     "metadata": {},
     "output_type": "execute_result"
    }
   ],
   "source": [
    "df_nft.head()"
   ]
  },
  {
   "cell_type": "markdown",
   "id": "f46ebd88",
   "metadata": {},
   "source": [
    "__At the end of the cleaning and tidying process, I have data on 10 cryptocurrencies, 1 NFT-Related Token and collective NFT sales for a period of more than 4 years.__\n",
    "\n",
    "__It was essential to get data for 2022 since that is when the latest \"bear market\" is occurring and it is exactly what will help me to prove that the decline of BTC's price spills over into other crypto assets.__"
   ]
  },
  {
   "cell_type": "markdown",
   "id": "b41e290c",
   "metadata": {},
   "source": [
    "## 3. Establish Hypothesis\n",
    "\n",
    "__My hypothesis is that a strong positive correlation (between 0.5 and 1) have been existing between the prices of BTC and the selected cryptocurrencies over the whole time period I am observing.__\n",
    "\n",
    "__I also assume that a positive correlation exists between prices of BTC and other crypto assets like NFTs, and by extension - NFT-related tokens. Though, I suppose that such a correlation would not be as strong as with cryptocurrencies, but it would surely still be positive.__\n",
    "\n",
    "__My main claim is that if NFTs' prices were not correlated with Bitcoin's, their 2021 ascent would have continued throughout 2022 and would not have been affected by the \"bear market\" that officially started around May/June 2022. I will try to prove that claim by running a model that will predict the NFT-related token (MANA) prices for the period between May and July 2022, based on historical price data for previous periods. If that predicted price is significantly higher than the actual price, that would mean that the price was affected by the BTC drop.__"
   ]
  },
  {
   "cell_type": "markdown",
   "id": "066243b4",
   "metadata": {},
   "source": [
    "## 4. Create Predictions Based on the Hypothesis\n",
    "\n",
    "### 4.1. Cryptocurrencies Prediction and Test\n",
    "\n",
    "My first prediction is that prices of the selected cryptocurrencies have had a strong positive correlation with BTC throughtout the whole observed timeperiod. \n",
    "\n",
    "I will test my first prediction by finding the correlation between each asset and BTC. This first prediction will be considered proven if the correlation for all assets and throughout the whole timeperiod is between 0.5 and 1."
   ]
  },
  {
   "cell_type": "code",
   "execution_count": 39,
   "id": "51a0fae6",
   "metadata": {},
   "outputs": [],
   "source": [
    "#Finding the correlation between each cryptocurrency and BTC\n",
    "def crypto_cor(df, column):\n",
    "    df[column].astype(int)\n",
    "    cor_currencies = df[column].corr(df.iloc[:, 1])\n",
    "    return cor_currencies"
   ]
  },
  {
   "cell_type": "code",
   "execution_count": 40,
   "id": "515a9dce",
   "metadata": {},
   "outputs": [
    {
     "data": {
      "text/plain": [
       "0.9254810596638703"
      ]
     },
     "execution_count": 40,
     "metadata": {},
     "output_type": "execute_result"
    }
   ],
   "source": [
    "#ETH/BTC Correlation\n",
    "cor_btc_eth = crypto_cor(df_final, 'ETH Price')\n",
    "cor_btc_eth"
   ]
  },
  {
   "cell_type": "code",
   "execution_count": 41,
   "id": "ca01cf48",
   "metadata": {},
   "outputs": [
    {
     "data": {
      "text/plain": [
       "0.8646012212067615"
      ]
     },
     "execution_count": 41,
     "metadata": {},
     "output_type": "execute_result"
    }
   ],
   "source": [
    "#ADA/BTC Correlation\n",
    "cor_btc_ada = crypto_cor(df_final, 'ADA Price')\n",
    "cor_btc_ada"
   ]
  },
  {
   "cell_type": "code",
   "execution_count": 42,
   "id": "9fffc6d2",
   "metadata": {},
   "outputs": [
    {
     "data": {
      "text/plain": [
       "-0.09945261508596391"
      ]
     },
     "execution_count": 42,
     "metadata": {},
     "output_type": "execute_result"
    }
   ],
   "source": [
    "#EOS/BTC Correlation\n",
    "cor_btc_eos = crypto_cor(df_final, 'EOS Price')\n",
    "cor_btc_eos"
   ]
  },
  {
   "cell_type": "code",
   "execution_count": 43,
   "id": "3e09833a",
   "metadata": {},
   "outputs": [
    {
     "data": {
      "text/plain": [
       "0.6647736401842471"
      ]
     },
     "execution_count": 43,
     "metadata": {},
     "output_type": "execute_result"
    }
   ],
   "source": [
    "#LTC/BTC Correlation\n",
    "cor_btc_ltc = crypto_cor(df_final, 'LTC Price')\n",
    "cor_btc_ltc"
   ]
  },
  {
   "cell_type": "code",
   "execution_count": 44,
   "id": "48297a38",
   "metadata": {},
   "outputs": [
    {
     "data": {
      "text/plain": [
       "0.8660876409951817"
      ]
     },
     "execution_count": 44,
     "metadata": {},
     "output_type": "execute_result"
    }
   ],
   "source": [
    "#MKR/BTC Correlation\n",
    "cor_btc_mkr = crypto_cor(df_final, 'MKR Price')\n",
    "cor_btc_mkr"
   ]
  },
  {
   "cell_type": "code",
   "execution_count": 45,
   "id": "67162f95",
   "metadata": {},
   "outputs": [
    {
     "data": {
      "text/plain": [
       "0.1674781960324532"
      ]
     },
     "execution_count": 45,
     "metadata": {},
     "output_type": "execute_result"
    }
   ],
   "source": [
    "#NEM/BTC Correlation\n",
    "cor_btc_nem = crypto_cor(df_final, 'NEM Price')\n",
    "cor_btc_nem"
   ]
  },
  {
   "cell_type": "code",
   "execution_count": 46,
   "id": "447b54e6",
   "metadata": {},
   "outputs": [
    {
     "data": {
      "text/plain": [
       "0.5856233267175572"
      ]
     },
     "execution_count": 46,
     "metadata": {},
     "output_type": "execute_result"
    }
   ],
   "source": [
    "#XLM/BTC Correlation\n",
    "cor_btc_xlm = crypto_cor(df_final, 'XLM Price')\n",
    "cor_btc_xlm"
   ]
  },
  {
   "cell_type": "code",
   "execution_count": 47,
   "id": "415536f1",
   "metadata": {},
   "outputs": [
    {
     "data": {
      "text/plain": [
       "0.7450882811609153"
      ]
     },
     "execution_count": 47,
     "metadata": {},
     "output_type": "execute_result"
    }
   ],
   "source": [
    "#TRX/BTC Correlation\n",
    "cor_btc_trx = crypto_cor(df_final, 'TRX Price')\n",
    "cor_btc_trx"
   ]
  },
  {
   "cell_type": "code",
   "execution_count": 48,
   "id": "a5dff4b0",
   "metadata": {},
   "outputs": [
    {
     "data": {
      "text/plain": [
       "0.1337292104440888"
      ]
     },
     "execution_count": 48,
     "metadata": {},
     "output_type": "execute_result"
    }
   ],
   "source": [
    "#ZEC/BTC Correlation\n",
    "cor_btc_zec = crypto_cor(df_final, 'ZEC Price')\n",
    "cor_btc_zec"
   ]
  },
  {
   "cell_type": "markdown",
   "id": "1331d454",
   "metadata": {},
   "source": [
    "### 4.2. NFTs Prediction and Test\n",
    "\n",
    "My second prediction is that during the period from 2017 to the end of 2020, correlation of NFTs and BTC prices may not have existed at all. However, ever since NFTs gained popularity and, so to say, entered the mainstream, there has been a positive correlation with BTC. A steep decline in prices of NFTs in accordance with BTC's drop around May/July 2022 would prove that prediction.\n",
    "\n",
    "I will test my second prediction by finding the correlation between NFT assets and BTC, and MANA and BTC. This second prediction will be proven if the correlation during 2021 and 2022 is between 0 and 1."
   ]
  },
  {
   "cell_type": "code",
   "execution_count": 49,
   "id": "845814f8",
   "metadata": {},
   "outputs": [],
   "source": [
    "#Slicing the observed timeperiod into 2 - 2017-2020 and 2021-2022\n",
    "df_nft_old = df_nft.loc[df_nft['Date'] <= '2021']"
   ]
  },
  {
   "cell_type": "code",
   "execution_count": 50,
   "id": "e097df3f",
   "metadata": {},
   "outputs": [],
   "source": [
    "df_nft_new = df_nft.loc[df_nft['Date'] >= '2021']"
   ]
  },
  {
   "cell_type": "code",
   "execution_count": 51,
   "id": "ec4f3d50",
   "metadata": {},
   "outputs": [
    {
     "data": {
      "text/plain": [
       "1       0\n",
       "2       0\n",
       "3       0\n",
       "4       0\n",
       "5       0\n",
       "       ..\n",
       "1140    0\n",
       "1141    0\n",
       "1142    0\n",
       "1143    0\n",
       "1144    0\n",
       "Name: MANA Price, Length: 1134, dtype: int32"
      ]
     },
     "execution_count": 51,
     "metadata": {},
     "output_type": "execute_result"
    }
   ],
   "source": [
    "#Converting each asset price to int in order to apply the corr function\n",
    "df_nft_old['BTC Price'].astype(int)\n",
    "df_nft_old['Average NFT Price'].astype(int)\n",
    "df_nft_old['MANA Price'].astype(int)"
   ]
  },
  {
   "cell_type": "code",
   "execution_count": 52,
   "id": "ca53e79e",
   "metadata": {},
   "outputs": [
    {
     "data": {
      "text/plain": [
       "0.38882403527076564"
      ]
     },
     "execution_count": 52,
     "metadata": {},
     "output_type": "execute_result"
    }
   ],
   "source": [
    "#Average NFT Price to BTC Correlation over the period from 2017 to 2020\n",
    "cor_btc_nft = df_nft_old['Average NFT Price'].corr(df_nft_old['BTC Price'])\n",
    "cor_btc_nft"
   ]
  },
  {
   "cell_type": "code",
   "execution_count": 53,
   "id": "4e442f1b",
   "metadata": {},
   "outputs": [
    {
     "data": {
      "text/plain": [
       "0.18526683600523436"
      ]
     },
     "execution_count": 53,
     "metadata": {},
     "output_type": "execute_result"
    }
   ],
   "source": [
    "#Average CryptoPunk Price to BTC Correlation over the period from 2017 to 2020\n",
    "cor_btc_mana = df_nft_old['MANA Price'].corr(df_nft_old['BTC Price'])\n",
    "cor_btc_mana"
   ]
  },
  {
   "cell_type": "code",
   "execution_count": 54,
   "id": "6c0f53a3",
   "metadata": {},
   "outputs": [
    {
     "data": {
      "text/plain": [
       "0.04809276456453729"
      ]
     },
     "execution_count": 54,
     "metadata": {},
     "output_type": "execute_result"
    }
   ],
   "source": [
    "#Average NFT Price to BTC Correlation over the period from 2021 to 2022\n",
    "cor_btc_nft_new = df_nft_new['Average NFT Price'].corr(df_nft_new['BTC Price'])\n",
    "cor_btc_nft_new"
   ]
  },
  {
   "cell_type": "code",
   "execution_count": 55,
   "id": "0275b699",
   "metadata": {},
   "outputs": [
    {
     "data": {
      "text/plain": [
       "0.11316742118363408"
      ]
     },
     "execution_count": 55,
     "metadata": {},
     "output_type": "execute_result"
    }
   ],
   "source": [
    "#Average CryptoPunk Price to BTC Correlation over the period from 2021 to 2022\n",
    "cor_btc_mana_new = df_nft_new['MANA Price'].corr(df_nft_new['BTC Price'])\n",
    "cor_btc_mana_new"
   ]
  },
  {
   "cell_type": "markdown",
   "id": "a85339f1",
   "metadata": {},
   "source": [
    "## 5. Make an observation and Visualize the Test Results\n",
    "\n",
    "### 5.1. Cryptocurrencies Correlation with BTC\n",
    "\n",
    "It turns out that my prediction was proven right for 6 of the selected currencies, and wrong for 3 of them, namely EOS, NEM, and ZEC. The correlation of NEM and ZEC with BTC is still positive but it is not as strong as I thought, whereas the one of EOS and BTC is negative. Let's visualize the results."
   ]
  },
  {
   "cell_type": "code",
   "execution_count": 56,
   "id": "b9b2d3c2",
   "metadata": {},
   "outputs": [
    {
     "data": {
      "text/plain": [
       "Text(0.5, 1.0, 'Correlation Matrix')"
      ]
     },
     "execution_count": 56,
     "metadata": {},
     "output_type": "execute_result"
    },
    {
     "data": {
      "image/png": "[encoded data removed]",
      "text/plain": [
       "<Figure size 576x432 with 2 Axes>"
      ]
     },
     "metadata": {
      "needs_background": "light"
     },
     "output_type": "display_data"
    }
   ],
   "source": [
    "#Visualizing the Correlation Matrix for all 10 cryptocurrencies\n",
    "f = plt.figure(figsize=(8, 6))\n",
    "plt.matshow(df_final.corr(), fignum=f.number)\n",
    "plt.xticks(range(df_final.select_dtypes(['number']).shape[1]), df_final.select_dtypes(['number']).columns, fontsize=12, rotation=45)\n",
    "plt.yticks(range(df_final.select_dtypes(['number']).shape[1]), df_final.select_dtypes(['number']).columns, fontsize=12)\n",
    "cb = plt.colorbar()\n",
    "cb.ax.tick_params(labelsize=14)\n",
    "plt.title('Correlation Matrix', fontsize=16)"
   ]
  },
  {
   "cell_type": "markdown",
   "id": "0e73efe2",
   "metadata": {},
   "source": [
    "### Performing Additional Tests and Making an Observation Based on Them\n",
    "\n",
    "Now I want to check specifically the BTC correlation over time with these 3 currencies that did not confirm my hypothesis, namely EOS, NEM, and ZEC. My goal is to understand:\n",
    "* Were there periods of a strong positive correlation?\n",
    "* How often during the observed period a negative correlation has occurred?\n",
    "* Are different occurrences of negative correlation close in time to each other, and if yes - was there a specific event that may have influenced the assets' price during that period?"
   ]
  },
  {
   "cell_type": "markdown",
   "id": "a1b502dc",
   "metadata": {},
   "source": [
    "##### EOS/BTC Correlation Over Time"
   ]
  },
  {
   "cell_type": "code",
   "execution_count": 57,
   "id": "fde82521",
   "metadata": {},
   "outputs": [],
   "source": [
    "df_final['EOS_BTC_COR'] = df_final['EOS Price'].rolling(48).corr(df_final['BTC Price'])"
   ]
  },
  {
   "cell_type": "code",
   "execution_count": 58,
   "id": "f4a39050",
   "metadata": {},
   "outputs": [],
   "source": [
    "df_final.index = pd.to_datetime(df_final['Date'],format='%y/%m/%d')"
   ]
  },
  {
   "cell_type": "code",
   "execution_count": 59,
   "id": "1368ae8f",
   "metadata": {
    "scrolled": true
   },
   "outputs": [],
   "source": [
    "eos_btc_by_months = df_final.groupby(pd.Grouper(key=\"Date\", freq=\"M\"))['EOS_BTC_COR'].mean()\n",
    "eos_btc_by_months = eos_btc_by_months.dropna()"
   ]
  },
  {
   "cell_type": "code",
   "execution_count": 60,
   "id": "9295c159",
   "metadata": {
    "scrolled": false
   },
   "outputs": [
    {
     "data": {
      "image/png": "[encoded data removed]",
      "text/plain": [
       "<Figure size 1440x432 with 2 Axes>"
      ]
     },
     "metadata": {
      "needs_background": "light"
     },
     "output_type": "display_data"
    }
   ],
   "source": [
    "x = []\n",
    "y = []\n",
    "for date, el in eos_btc_by_months.iteritems():\n",
    "    x.append(date)\n",
    "    y.append(round(el, 2))\n",
    "    \n",
    "cm = plt.cm.get_cmap('viridis')\n",
    "plt.figure(figsize=(20,6))\n",
    "plt.scatter(x, y, c=y, cmap=cm, s=120)\n",
    "plt.plot(x, y, marker = '.', markersize = 1)\n",
    "plt.axhline(y = 0, color = 'purple', linestyle = '--', label= \"Zero Correlation\")\n",
    "plt.axhline(y = 0.5, color = 'aqua', linestyle = '--', label= \"Strong Positive Correlation\")\n",
    "plt.legend(loc = 'lower right')\n",
    "plt.colorbar()\n",
    "plt.xticks(fontsize=12, rotation=45)\n",
    "plt.title(\"EOS to BTC Correlation Over Time\", fontsize=16)\n",
    "plt.xlabel(\"Observed Time Period\", fontsize=14)\n",
    "plt.ylabel(\"Correlation between EOS and BTC Prices\", fontsize=14)\n",
    "plt.tight_layout()\n",
    "plt.show()"
   ]
  },
  {
   "cell_type": "markdown",
   "id": "61cc7a59",
   "metadata": {},
   "source": [
    "##### NEM/BTC Correlation Over Time"
   ]
  },
  {
   "cell_type": "code",
   "execution_count": 61,
   "id": "03be5744",
   "metadata": {},
   "outputs": [],
   "source": [
    "df_final['NEM_BTC_COR'] = df_final['NEM Price'].rolling(48).corr(df_final['BTC Price'])"
   ]
  },
  {
   "cell_type": "code",
   "execution_count": 62,
   "id": "04a6dd1d",
   "metadata": {},
   "outputs": [],
   "source": [
    "df_final.index = pd.to_datetime(df_final['Date'],format='%y/%m/%d')"
   ]
  },
  {
   "cell_type": "code",
   "execution_count": 63,
   "id": "0cad6052",
   "metadata": {},
   "outputs": [],
   "source": [
    "nem_btc_by_months = df_final.groupby(pd.Grouper(key=\"Date\", freq=\"M\"))['NEM_BTC_COR'].mean()\n",
    "nem_btc_by_months = nem_btc_by_months.dropna()"
   ]
  },
  {
   "cell_type": "code",
   "execution_count": 64,
   "id": "58453ea4",
   "metadata": {},
   "outputs": [
    {
     "data": {
      "image/png": "[encoded data removed]",
      "text/plain": [
       "<Figure size 1440x432 with 2 Axes>"
      ]
     },
     "metadata": {
      "needs_background": "light"
     },
     "output_type": "display_data"
    }
   ],
   "source": [
    "x1 = []\n",
    "y1 = []\n",
    "for date, el in nem_btc_by_months.iteritems():\n",
    "    x1.append(date)\n",
    "    y1.append(round(el, 2))\n",
    "    \n",
    "cm = plt.cm.get_cmap('viridis')\n",
    "plt.figure(figsize=(20,6))\n",
    "plt.scatter(x1, y1, c=y1, cmap=cm, s=120)\n",
    "plt.plot(x1, y1, marker = '.', markersize = 1)\n",
    "plt.axhline(y = 0, color = 'purple', linestyle = '--', label= \"Zero Correlation\")\n",
    "plt.axhline(y = 0.5, color = 'aqua', linestyle = '--', label= \"Strong Positive Correlation\")\n",
    "plt.legend(loc = 'lower right')\n",
    "plt.colorbar()\n",
    "plt.xticks(fontsize=12, rotation=45)\n",
    "plt.title(\"NEM to BTC Correlation Over Time\", fontsize=16)\n",
    "plt.xlabel(\"Observed Time Period\", fontsize=14)\n",
    "plt.ylabel(\"Correlation between NEM and BTC Prices\", fontsize=14)\n",
    "plt.tight_layout()\n",
    "plt.show()"
   ]
  },
  {
   "cell_type": "markdown",
   "id": "5f7ff821",
   "metadata": {},
   "source": [
    "##### ZEC/BTC Correlation Over Time"
   ]
  },
  {
   "cell_type": "code",
   "execution_count": 65,
   "id": "f164ff3b",
   "metadata": {},
   "outputs": [],
   "source": [
    "df_final['ZEC_BTC_COR'] = df_final['ZEC Price'].rolling(48).corr(df_final['BTC Price'])"
   ]
  },
  {
   "cell_type": "code",
   "execution_count": 66,
   "id": "d88ea00b",
   "metadata": {},
   "outputs": [],
   "source": [
    "df_final.index = pd.to_datetime(df_final['Date'],format='%y/%m/%d')"
   ]
  },
  {
   "cell_type": "code",
   "execution_count": 67,
   "id": "09a1983d",
   "metadata": {},
   "outputs": [],
   "source": [
    "zec_btc_by_months = df_final.groupby(pd.Grouper(key=\"Date\", freq=\"M\"))['ZEC_BTC_COR'].mean()\n",
    "zec_btc_by_months = zec_btc_by_months.dropna()"
   ]
  },
  {
   "cell_type": "code",
   "execution_count": 68,
   "id": "117e4850",
   "metadata": {},
   "outputs": [
    {
     "data": {
      "image/png": "[encoded data removed]",
      "text/plain": [
       "<Figure size 1440x432 with 2 Axes>"
      ]
     },
     "metadata": {
      "needs_background": "light"
     },
     "output_type": "display_data"
    }
   ],
   "source": [
    "x = []\n",
    "y = []\n",
    "for date, el in zec_btc_by_months.iteritems():\n",
    "    x.append(date)\n",
    "    y.append(round(el, 2))\n",
    "    \n",
    "cm = plt.cm.get_cmap('viridis')\n",
    "plt.figure(figsize=(20,6))\n",
    "plt.scatter(x, y, c=y, cmap=cm, s=120)\n",
    "plt.plot(x, y, marker = '.', markersize = 1)\n",
    "plt.axhline(y = 0, color = 'purple', linestyle = '--', label= \"Zero Correlation\")\n",
    "plt.axhline(y = 0.5, color = 'aqua', linestyle = '--', label= \"Strong Positive Correlation\")\n",
    "plt.legend(loc = 'lower right')\n",
    "plt.colorbar()\n",
    "plt.xticks(fontsize=12, rotation=45)\n",
    "plt.title(\"ZEC to BTC Correlation Over Time\", fontsize=16)\n",
    "plt.xlabel(\"Observed Time Period\", fontsize=14)\n",
    "plt.ylabel(\"Correlation between ZEC and BTC Prices\", fontsize=14)\n",
    "plt.tight_layout()\n",
    "plt.show()"
   ]
  },
  {
   "cell_type": "markdown",
   "id": "ae39ab51",
   "metadata": {},
   "source": [
    "### 5.2. NFTs Correlation with BTC\n",
    "\n",
    "It turns out I was wrong when supposing that there was no correlation between NFT and BTC prices during the period before 2021. In reality, the BTC correlation with the whole NFT market over the years 2017-2020 was much stronger than it was over 2021-2022. \n",
    "\n",
    "The correlation of the NFT-related token MANA with BTC has been weak throughout the whole observed period, but it's been still positive, and for 2021-2022, it's even stronger than the NFTs/BTC one.\n",
    "\n",
    "Therefore, a positive correlation (between 0 and 1) has existed for both NFTs and MANA, so my hypothesis is proven right. Let's visualize the results for 2021-2022. "
   ]
  },
  {
   "cell_type": "markdown",
   "id": "ddabeb0f",
   "metadata": {},
   "source": [
    "##### NFT/BTC Correlation Over 2021-2022"
   ]
  },
  {
   "cell_type": "code",
   "execution_count": 69,
   "id": "7f29545a",
   "metadata": {},
   "outputs": [
    {
     "name": "stderr",
     "output_type": "stream",
     "text": [
      "C:\\Users\\35989\\AppData\\Local\\Temp/ipykernel_20396/1515384041.py:2: SettingWithCopyWarning: \n",
      "A value is trying to be set on a copy of a slice from a DataFrame.\n",
      "Try using .loc[row_indexer,col_indexer] = value instead\n",
      "\n",
      "See the caveats in the documentation: https://pandas.pydata.org/pandas-docs/stable/user_guide/indexing.html#returning-a-view-versus-a-copy\n",
      "  df_nft_new['NFT_BTC_COR'] = df_nft_new['Average NFT Price'].rolling(48).corr(df_nft_new['BTC Price'])\n"
     ]
    }
   ],
   "source": [
    "#Visualizing the rolling correlation\n",
    "df_nft_new['NFT_BTC_COR'] = df_nft_new['Average NFT Price'].rolling(48).corr(df_nft_new['BTC Price'])"
   ]
  },
  {
   "cell_type": "code",
   "execution_count": 70,
   "id": "6d97b103",
   "metadata": {},
   "outputs": [],
   "source": [
    "df_nft_new.index = pd.to_datetime(df_nft_new['Date'],format='%y/%m/%d')"
   ]
  },
  {
   "cell_type": "code",
   "execution_count": 71,
   "id": "1787eff7",
   "metadata": {},
   "outputs": [],
   "source": [
    "nft_btc_by_months = df_nft_new.groupby(pd.Grouper(key=\"Date\", freq=\"M\"))['NFT_BTC_COR'].mean()\n",
    "nft_btc_by_months = nft_btc_by_months.dropna()"
   ]
  },
  {
   "cell_type": "code",
   "execution_count": 72,
   "id": "593f303b",
   "metadata": {},
   "outputs": [
    {
     "data": {
      "image/png": "[encoded data removed]",
      "text/plain": [
       "<Figure size 1440x432 with 2 Axes>"
      ]
     },
     "metadata": {
      "needs_background": "light"
     },
     "output_type": "display_data"
    }
   ],
   "source": [
    "x = []\n",
    "y = []\n",
    "for date, el in nft_btc_by_months.iteritems():\n",
    "    x.append(date)\n",
    "    y.append(round(el, 2))\n",
    "    \n",
    "cm = plt.cm.get_cmap('viridis')\n",
    "plt.figure(figsize=(20,6))\n",
    "plt.scatter(x, y, c=y, cmap=cm, s=120)\n",
    "plt.plot(x, y, marker = '.', markersize = 1)\n",
    "plt.axhline(y = 0, color = 'purple', linestyle = '--', label= \"Zero Correlation\")\n",
    "plt.axhline(y = 0.5, color = 'aqua', linestyle = '--', label= \"Strong Positive Correlation\")\n",
    "plt.legend(loc = 'center right')\n",
    "plt.colorbar()\n",
    "plt.xticks(fontsize=12, rotation=45)\n",
    "plt.title(\"NFTs to BTC Correlation Over 2021-2022\", fontsize=16)\n",
    "plt.xlabel(\"Observed Time Period\", fontsize=14)\n",
    "plt.ylabel(\"Correlation between Average NFT and BTC Prices\", fontsize=14)\n",
    "plt.tight_layout()\n",
    "plt.show()"
   ]
  },
  {
   "cell_type": "markdown",
   "id": "cf067c82",
   "metadata": {},
   "source": [
    "##### MANA/BTC Correlation Over 2021-2022"
   ]
  },
  {
   "cell_type": "code",
   "execution_count": 73,
   "id": "cb5aa805",
   "metadata": {},
   "outputs": [
    {
     "name": "stderr",
     "output_type": "stream",
     "text": [
      "C:\\Users\\35989\\AppData\\Local\\Temp/ipykernel_20396/2778504212.py:2: SettingWithCopyWarning: \n",
      "A value is trying to be set on a copy of a slice from a DataFrame.\n",
      "Try using .loc[row_indexer,col_indexer] = value instead\n",
      "\n",
      "See the caveats in the documentation: https://pandas.pydata.org/pandas-docs/stable/user_guide/indexing.html#returning-a-view-versus-a-copy\n",
      "  df_nft_new['MANA_BTC_COR'] = df_nft_new['MANA Price'].rolling(48).corr(df_nft_new['BTC Price'])\n"
     ]
    }
   ],
   "source": [
    "#Visualizing the rolling correlation\n",
    "df_nft_new['MANA_BTC_COR'] = df_nft_new['MANA Price'].rolling(48).corr(df_nft_new['BTC Price'])"
   ]
  },
  {
   "cell_type": "code",
   "execution_count": 74,
   "id": "211ac4b2",
   "metadata": {},
   "outputs": [],
   "source": [
    "df_nft_new.index = pd.to_datetime(df_nft_new['Date'],format='%y/%m/%d')"
   ]
  },
  {
   "cell_type": "code",
   "execution_count": 75,
   "id": "f0c70d52",
   "metadata": {},
   "outputs": [],
   "source": [
    "mana_btc_by_months = df_nft_new.groupby(pd.Grouper(key=\"Date\", freq=\"M\"))['MANA_BTC_COR'].mean()\n",
    "mana_btc_by_months = mana_btc_by_months.dropna()"
   ]
  },
  {
   "cell_type": "code",
   "execution_count": 76,
   "id": "b5bffdfa",
   "metadata": {},
   "outputs": [
    {
     "data": {
      "image/png": "[encoded data removed]",
      "text/plain": [
       "<Figure size 1440x432 with 2 Axes>"
      ]
     },
     "metadata": {
      "needs_background": "light"
     },
     "output_type": "display_data"
    }
   ],
   "source": [
    "x = []\n",
    "y = []\n",
    "for date, el in mana_btc_by_months.iteritems():\n",
    "    x.append(date)\n",
    "    y.append(round(el, 2))\n",
    "    \n",
    "cm = plt.cm.get_cmap('viridis')\n",
    "plt.figure(figsize=(20,6))\n",
    "plt.scatter(x, y, c=y, cmap=cm, s=120)\n",
    "plt.plot(x, y, marker = '.', markersize = 1)\n",
    "plt.axhline(y = 0, color = 'purple', linestyle = '--', label= \"Zero Correlation\")\n",
    "plt.axhline(y = 0.5, color = 'aqua', linestyle = '--', label= \"Strong Positive Correlation\")\n",
    "plt.legend(loc = 'center right')\n",
    "plt.colorbar()\n",
    "plt.xticks(fontsize=12, rotation=45)\n",
    "plt.title(\"MANA to BTC Correlation Over 2021-2022\", fontsize=16)\n",
    "plt.xlabel(\"Observed Time Period\", fontsize=14)\n",
    "plt.ylabel(\"Correlation MANA and BTC Prices\", fontsize=14)\n",
    "plt.tight_layout()\n",
    "plt.show()"
   ]
  },
  {
   "cell_type": "markdown",
   "id": "bcbbe2e5",
   "metadata": {},
   "source": [
    "## 6. Build a Model to Confirm or Reject Your Prediction \n",
    "\n",
    "I will try to create a linear regression model using the data on the NFT-related MANA token with the aim of confirming that, based on the historical price data, the MANA price over the period May-July 2022 would have been higher than it was in reality. These lower prices over that timeframe are due, in my opinion, to the effects of the \"bear market\". "
   ]
  },
  {
   "cell_type": "markdown",
   "id": "ab6c4208",
   "metadata": {},
   "source": [
    "### 6.1. Create a Linear Regression Model to Predict the Asset's Future Price"
   ]
  },
  {
   "cell_type": "code",
   "execution_count": 77,
   "id": "83725ab9",
   "metadata": {},
   "outputs": [],
   "source": [
    "df_dcntrl.set_index('Date', inplace=True)\n",
    "### 6.1. Create a Linear Regression Model to Predict the Asset's Future Price"
   ]
  },
  {
   "cell_type": "code",
   "execution_count": 78,
   "id": "1047ef29",
   "metadata": {},
   "outputs": [],
   "source": [
    "x = df_dcntrl[['Open', 'High', 'Low', 'Volume']].values\n",
    "y = df_dcntrl['Close'].values"
   ]
  },
  {
   "cell_type": "code",
   "execution_count": 79,
   "id": "391497d2",
   "metadata": {},
   "outputs": [],
   "source": [
    "x_train, x_test, y_train, y_test = train_test_split(x,y,test_size=0.2,random_state=0)"
   ]
  },
  {
   "cell_type": "code",
   "execution_count": 80,
   "id": "6fe48b70",
   "metadata": {},
   "outputs": [],
   "source": [
    "regressor = LinearRegression()"
   ]
  },
  {
   "cell_type": "code",
   "execution_count": 81,
   "id": "2fe8ee3a",
   "metadata": {},
   "outputs": [
    {
     "data": {
      "text/plain": [
       "LinearRegression()"
      ]
     },
     "execution_count": 81,
     "metadata": {},
     "output_type": "execute_result"
    }
   ],
   "source": [
    "regressor.fit(x_train, y_train)"
   ]
  },
  {
   "cell_type": "code",
   "execution_count": 82,
   "id": "c2a7be85",
   "metadata": {},
   "outputs": [
    {
     "name": "stdout",
     "output_type": "stream",
     "text": [
      "[-5.06315878e-01  1.11282131e+00  3.75852897e-01 -4.84513154e-11]\n"
     ]
    }
   ],
   "source": [
    "print(regressor.coef_)"
   ]
  },
  {
   "cell_type": "code",
   "execution_count": 83,
   "id": "09b77807",
   "metadata": {},
   "outputs": [
    {
     "name": "stdout",
     "output_type": "stream",
     "text": [
      "-0.0023601610273851215\n"
     ]
    }
   ],
   "source": [
    "print(regressor.intercept_)"
   ]
  },
  {
   "cell_type": "code",
   "execution_count": 84,
   "id": "5ca585bc",
   "metadata": {},
   "outputs": [],
   "source": [
    "predicted = regressor.predict(x_test)"
   ]
  },
  {
   "cell_type": "code",
   "execution_count": 85,
   "id": "13006800",
   "metadata": {},
   "outputs": [],
   "source": [
    "dframe = pd.DataFrame({'Actual':y_test.flatten(), 'Predicted':predicted.flatten()})"
   ]
  },
  {
   "cell_type": "code",
   "execution_count": 86,
   "id": "20996a03",
   "metadata": {},
   "outputs": [
    {
     "name": "stdout",
     "output_type": "stream",
     "text": [
      "Mean Absolute Error: 0.017554474227273544\n",
      "Mean Squared Error: 0.004123853531247186\n",
      "Root Mean Squared Error: 0.06421723702595111\n"
     ]
    }
   ],
   "source": [
    "print('Mean Absolute Error:', metrics.mean_absolute_error(y_test, predicted))\n",
    "print('Mean Squared Error:', metrics.mean_squared_error(y_test, predicted))\n",
    "print('Root Mean Squared Error:', np.sqrt(metrics.mean_squared_error(y_test, predicted)))"
   ]
  },
  {
   "cell_type": "code",
   "execution_count": 87,
   "id": "685cc035",
   "metadata": {},
   "outputs": [],
   "source": [
    "graph = dframe.tail(70).set_index(df_dcntrl.tail(70).index)"
   ]
  },
  {
   "cell_type": "code",
   "execution_count": 88,
   "id": "af0c285b",
   "metadata": {},
   "outputs": [
    {
     "data": {
      "text/plain": [
       "Text(0.5, 1.0, 'Actual Vs. Predicted Price')"
      ]
     },
     "execution_count": 88,
     "metadata": {},
     "output_type": "execute_result"
    },
    {
     "data": {
      "image/png": "[encoded data removed]",
      "text/plain": [
       "<Figure size 1296x432 with 1 Axes>"
      ]
     },
     "metadata": {
      "needs_background": "light"
     },
     "output_type": "display_data"
    }
   ],
   "source": [
    "ax = graph.plot(kind='bar' , stacked=True, figsize=(18,6), rot=75, cmap='viridis')\n",
    "ax.set_xlabel('Daily Price Difference', fontsize=12)\n",
    "ax.set_ylabel('Price in USD', fontsize=12)\n",
    "ax.set_title('Actual Vs. Predicted Price', fontsize=14)"
   ]
  },
  {
   "cell_type": "markdown",
   "id": "de5c33e0",
   "metadata": {},
   "source": [
    "### 6.2. Create a Classification Model to Check Whether Future Price is Higher or Lower\n",
    "\n",
    "The Linear Regression model may not be the best choice for predicting market dynamics since the stock market data, and similarly the crypto market data, is inherently non-linear.\n",
    "\n",
    "Therefore, a Classification model may better predict whether prices are about to go up or down. In this case, if the following day's price is expected to be higher than the current one's, the target will be 1. Inversely, if the expected price is lower, the target will be 0."
   ]
  },
  {
   "cell_type": "code",
   "execution_count": 89,
   "id": "1761a0c8",
   "metadata": {},
   "outputs": [
    {
     "data": {
      "text/html": [
       "<div>\n",
       "<style scoped>\n",
       "    .dataframe tbody tr th:only-of-type {\n",
       "        vertical-align: middle;\n",
       "    }\n",
       "\n",
       "    .dataframe tbody tr th {\n",
       "        vertical-align: top;\n",
       "    }\n",
       "\n",
       "    .dataframe thead th {\n",
       "        text-align: right;\n",
       "    }\n",
       "</style>\n",
       "<table border=\"1\" class=\"dataframe\">\n",
       "  <thead>\n",
       "    <tr style=\"text-align: right;\">\n",
       "      <th></th>\n",
       "      <th>Open</th>\n",
       "      <th>High</th>\n",
       "      <th>Low</th>\n",
       "      <th>Close</th>\n",
       "      <th>Volume</th>\n",
       "      <th>Currency</th>\n",
       "    </tr>\n",
       "    <tr>\n",
       "      <th>Date</th>\n",
       "      <th></th>\n",
       "      <th></th>\n",
       "      <th></th>\n",
       "      <th></th>\n",
       "      <th></th>\n",
       "      <th></th>\n",
       "    </tr>\n",
       "  </thead>\n",
       "  <tbody>\n",
       "    <tr>\n",
       "      <th>2017-11-09</th>\n",
       "      <td>0.014329</td>\n",
       "      <td>0.016111</td>\n",
       "      <td>0.013886</td>\n",
       "      <td>0.015130</td>\n",
       "      <td>653800</td>\n",
       "      <td>USD</td>\n",
       "    </tr>\n",
       "    <tr>\n",
       "      <th>2017-11-10</th>\n",
       "      <td>0.015162</td>\n",
       "      <td>0.015734</td>\n",
       "      <td>0.012645</td>\n",
       "      <td>0.012940</td>\n",
       "      <td>296429</td>\n",
       "      <td>USD</td>\n",
       "    </tr>\n",
       "    <tr>\n",
       "      <th>2017-11-11</th>\n",
       "      <td>0.013201</td>\n",
       "      <td>0.013616</td>\n",
       "      <td>0.011758</td>\n",
       "      <td>0.011979</td>\n",
       "      <td>237865</td>\n",
       "      <td>USD</td>\n",
       "    </tr>\n",
       "    <tr>\n",
       "      <th>2017-11-12</th>\n",
       "      <td>0.011975</td>\n",
       "      <td>0.011975</td>\n",
       "      <td>0.010125</td>\n",
       "      <td>0.010505</td>\n",
       "      <td>242761</td>\n",
       "      <td>USD</td>\n",
       "    </tr>\n",
       "    <tr>\n",
       "      <th>2017-11-13</th>\n",
       "      <td>0.010628</td>\n",
       "      <td>0.011660</td>\n",
       "      <td>0.010628</td>\n",
       "      <td>0.011330</td>\n",
       "      <td>225836</td>\n",
       "      <td>USD</td>\n",
       "    </tr>\n",
       "    <tr>\n",
       "      <th>...</th>\n",
       "      <td>...</td>\n",
       "      <td>...</td>\n",
       "      <td>...</td>\n",
       "      <td>...</td>\n",
       "      <td>...</td>\n",
       "      <td>...</td>\n",
       "    </tr>\n",
       "    <tr>\n",
       "      <th>2022-07-06</th>\n",
       "      <td>0.874363</td>\n",
       "      <td>0.926837</td>\n",
       "      <td>0.861758</td>\n",
       "      <td>0.914451</td>\n",
       "      <td>210947220</td>\n",
       "      <td>USD</td>\n",
       "    </tr>\n",
       "    <tr>\n",
       "      <th>2022-07-07</th>\n",
       "      <td>0.914496</td>\n",
       "      <td>0.945209</td>\n",
       "      <td>0.908165</td>\n",
       "      <td>0.934855</td>\n",
       "      <td>210038734</td>\n",
       "      <td>USD</td>\n",
       "    </tr>\n",
       "    <tr>\n",
       "      <th>2022-07-08</th>\n",
       "      <td>0.934846</td>\n",
       "      <td>0.954595</td>\n",
       "      <td>0.890449</td>\n",
       "      <td>0.902864</td>\n",
       "      <td>188567375</td>\n",
       "      <td>USD</td>\n",
       "    </tr>\n",
       "    <tr>\n",
       "      <th>2022-07-09</th>\n",
       "      <td>0.902449</td>\n",
       "      <td>0.920820</td>\n",
       "      <td>0.899907</td>\n",
       "      <td>0.907151</td>\n",
       "      <td>114282931</td>\n",
       "      <td>USD</td>\n",
       "    </tr>\n",
       "    <tr>\n",
       "      <th>2022-07-10</th>\n",
       "      <td>0.906951</td>\n",
       "      <td>0.907059</td>\n",
       "      <td>0.879331</td>\n",
       "      <td>0.882097</td>\n",
       "      <td>115719336</td>\n",
       "      <td>USD</td>\n",
       "    </tr>\n",
       "  </tbody>\n",
       "</table>\n",
       "<p>1705 rows × 6 columns</p>\n",
       "</div>"
      ],
      "text/plain": [
       "                Open      High       Low     Close     Volume Currency\n",
       "Date                                                                  \n",
       "2017-11-09  0.014329  0.016111  0.013886  0.015130     653800      USD\n",
       "2017-11-10  0.015162  0.015734  0.012645  0.012940     296429      USD\n",
       "2017-11-11  0.013201  0.013616  0.011758  0.011979     237865      USD\n",
       "2017-11-12  0.011975  0.011975  0.010125  0.010505     242761      USD\n",
       "2017-11-13  0.010628  0.011660  0.010628  0.011330     225836      USD\n",
       "...              ...       ...       ...       ...        ...      ...\n",
       "2022-07-06  0.874363  0.926837  0.861758  0.914451  210947220      USD\n",
       "2022-07-07  0.914496  0.945209  0.908165  0.934855  210038734      USD\n",
       "2022-07-08  0.934846  0.954595  0.890449  0.902864  188567375      USD\n",
       "2022-07-09  0.902449  0.920820  0.899907  0.907151  114282931      USD\n",
       "2022-07-10  0.906951  0.907059  0.879331  0.882097  115719336      USD\n",
       "\n",
       "[1705 rows x 6 columns]"
      ]
     },
     "execution_count": 89,
     "metadata": {},
     "output_type": "execute_result"
    }
   ],
   "source": [
    "df_dcntrl"
   ]
  },
  {
   "cell_type": "code",
   "execution_count": 90,
   "id": "c2b0ee91",
   "metadata": {},
   "outputs": [],
   "source": [
    "# Ensuring the actual closing price is correct\n",
    "data = df_dcntrl[[\"Close\"]]\n",
    "data = data.rename(columns= {'Close':'Actual_Close'})\n",
    "\n",
    "# Setting up the target.  This identifies if the price went up or down - 1 for Up and 0 for Down\n",
    "data[\"Target\"] = df_dcntrl.rolling(2).apply(lambda x: x.iloc[1] > x.iloc[0])[\"Close\"]"
   ]
  },
  {
   "cell_type": "code",
   "execution_count": 91,
   "id": "e1ea6e59",
   "metadata": {},
   "outputs": [],
   "source": [
    "# Shifting token prices forward one day, so we're predicting tomorrow's stock prices from today's prices\n",
    "df_prev = df_dcntrl.copy()\n",
    "df_prev = df_prev.shift(1)"
   ]
  },
  {
   "cell_type": "code",
   "execution_count": 92,
   "id": "d2229802",
   "metadata": {},
   "outputs": [],
   "source": [
    "# Creating the predictors aka the training data\n",
    "predictors = [\"Close\", \"Volume\", \"Open\", \"High\", \"Low\"]\n",
    "data = data.join(df_prev[predictors]).iloc[1:]"
   ]
  },
  {
   "cell_type": "code",
   "execution_count": 93,
   "id": "5574fe63",
   "metadata": {},
   "outputs": [
    {
     "data": {
      "text/html": [
       "<div>\n",
       "<style scoped>\n",
       "    .dataframe tbody tr th:only-of-type {\n",
       "        vertical-align: middle;\n",
       "    }\n",
       "\n",
       "    .dataframe tbody tr th {\n",
       "        vertical-align: top;\n",
       "    }\n",
       "\n",
       "    .dataframe thead th {\n",
       "        text-align: right;\n",
       "    }\n",
       "</style>\n",
       "<table border=\"1\" class=\"dataframe\">\n",
       "  <thead>\n",
       "    <tr style=\"text-align: right;\">\n",
       "      <th></th>\n",
       "      <th>Actual_Close</th>\n",
       "      <th>Target</th>\n",
       "      <th>Close</th>\n",
       "      <th>Volume</th>\n",
       "      <th>Open</th>\n",
       "      <th>High</th>\n",
       "      <th>Low</th>\n",
       "    </tr>\n",
       "    <tr>\n",
       "      <th>Date</th>\n",
       "      <th></th>\n",
       "      <th></th>\n",
       "      <th></th>\n",
       "      <th></th>\n",
       "      <th></th>\n",
       "      <th></th>\n",
       "      <th></th>\n",
       "    </tr>\n",
       "  </thead>\n",
       "  <tbody>\n",
       "    <tr>\n",
       "      <th>2017-11-10</th>\n",
       "      <td>0.012940</td>\n",
       "      <td>0.0</td>\n",
       "      <td>0.015130</td>\n",
       "      <td>653800.0</td>\n",
       "      <td>0.014329</td>\n",
       "      <td>0.016111</td>\n",
       "      <td>0.013886</td>\n",
       "    </tr>\n",
       "    <tr>\n",
       "      <th>2017-11-11</th>\n",
       "      <td>0.011979</td>\n",
       "      <td>0.0</td>\n",
       "      <td>0.012940</td>\n",
       "      <td>296429.0</td>\n",
       "      <td>0.015162</td>\n",
       "      <td>0.015734</td>\n",
       "      <td>0.012645</td>\n",
       "    </tr>\n",
       "    <tr>\n",
       "      <th>2017-11-12</th>\n",
       "      <td>0.010505</td>\n",
       "      <td>0.0</td>\n",
       "      <td>0.011979</td>\n",
       "      <td>237865.0</td>\n",
       "      <td>0.013201</td>\n",
       "      <td>0.013616</td>\n",
       "      <td>0.011758</td>\n",
       "    </tr>\n",
       "    <tr>\n",
       "      <th>2017-11-13</th>\n",
       "      <td>0.011330</td>\n",
       "      <td>1.0</td>\n",
       "      <td>0.010505</td>\n",
       "      <td>242761.0</td>\n",
       "      <td>0.011975</td>\n",
       "      <td>0.011975</td>\n",
       "      <td>0.010125</td>\n",
       "    </tr>\n",
       "    <tr>\n",
       "      <th>2017-11-14</th>\n",
       "      <td>0.011419</td>\n",
       "      <td>1.0</td>\n",
       "      <td>0.011330</td>\n",
       "      <td>225836.0</td>\n",
       "      <td>0.010628</td>\n",
       "      <td>0.011660</td>\n",
       "      <td>0.010628</td>\n",
       "    </tr>\n",
       "  </tbody>\n",
       "</table>\n",
       "</div>"
      ],
      "text/plain": [
       "            Actual_Close  Target     Close    Volume      Open      High  \\\n",
       "Date                                                                       \n",
       "2017-11-10      0.012940     0.0  0.015130  653800.0  0.014329  0.016111   \n",
       "2017-11-11      0.011979     0.0  0.012940  296429.0  0.015162  0.015734   \n",
       "2017-11-12      0.010505     0.0  0.011979  237865.0  0.013201  0.013616   \n",
       "2017-11-13      0.011330     1.0  0.010505  242761.0  0.011975  0.011975   \n",
       "2017-11-14      0.011419     1.0  0.011330  225836.0  0.010628  0.011660   \n",
       "\n",
       "                 Low  \n",
       "Date                  \n",
       "2017-11-10  0.013886  \n",
       "2017-11-11  0.012645  \n",
       "2017-11-12  0.011758  \n",
       "2017-11-13  0.010125  \n",
       "2017-11-14  0.010628  "
      ]
     },
     "execution_count": 93,
     "metadata": {},
     "output_type": "execute_result"
    }
   ],
   "source": [
    "data.head(5)"
   ]
  },
  {
   "cell_type": "code",
   "execution_count": 94,
   "id": "1fa648df",
   "metadata": {},
   "outputs": [
    {
     "data": {
      "text/plain": [
       "RandomForestClassifier(min_samples_split=200, n_estimators=200, random_state=1)"
      ]
     },
     "execution_count": 94,
     "metadata": {},
     "output_type": "execute_result"
    }
   ],
   "source": [
    "#Creating a machine learning model\n",
    "#Creating a random forest classification model = a series of individual decision tree models (in this case = 200) \n",
    "#Set min_samples_split high to ensure we don't overfit. Random_state=1 ensures that every time we run the model, we'll get the same results.\n",
    "model = RandomForestClassifier(n_estimators=200, min_samples_split=200, random_state=1)\n",
    "\n",
    "# Create a train and test set. Predicting the last 70 rows.\n",
    "train = data.iloc[:-70]\n",
    "test = data.iloc[-70:]\n",
    "\n",
    "model.fit(train[predictors], train[\"Target\"])"
   ]
  },
  {
   "cell_type": "code",
   "execution_count": 95,
   "id": "e299ad6f",
   "metadata": {},
   "outputs": [
    {
     "data": {
      "text/plain": [
       "0.6410256410256411"
      ]
     },
     "execution_count": 95,
     "metadata": {},
     "output_type": "execute_result"
    }
   ],
   "source": [
    "# Evaluate error of predictions - here the accuracy is 64%, not so good\n",
    "preds = model.predict(test[predictors])\n",
    "preds = pd.Series(preds, index=test.index)\n",
    "precision_score(test[\"Target\"], preds)"
   ]
  },
  {
   "cell_type": "code",
   "execution_count": 96,
   "id": "56fde54c",
   "metadata": {},
   "outputs": [],
   "source": [
    "combined = pd.concat({\"Target\": test[\"Target\"],\"Predictions\": preds}, axis=1)"
   ]
  },
  {
   "cell_type": "code",
   "execution_count": 97,
   "id": "47c134c5",
   "metadata": {},
   "outputs": [],
   "source": [
    "#Creating a backtesting engine\n",
    "def backtest(data, model, predictors, start=1000, step=250):\n",
    "    predictions = []\n",
    "    # Loop over the dataset in increments\n",
    "    for i in range(start, data.shape[0], step):\n",
    "        # Split into train and test sets\n",
    "        train = data.iloc[0:i].copy()\n",
    "        test = data.iloc[i:(i+step)].copy()\n",
    "        \n",
    "        # Fit the random forest model\n",
    "        model.fit(train[predictors], train[\"Target\"])\n",
    "        \n",
    "        # Make predictions\n",
    "        preds = model.predict_proba(test[predictors])[:,1]\n",
    "        preds = pd.Series(preds, index=test.index)\n",
    "        preds[preds > .6] = 1\n",
    "        preds[preds<=.6] = 0\n",
    "        \n",
    "        # Combine predictions and test values\n",
    "        combined = pd.concat({\"Target\": test[\"Target\"],\"Predictions\": preds}, axis=1)\n",
    "        \n",
    "        predictions.append(combined)\n",
    "    \n",
    "    return pd.concat(predictions)"
   ]
  },
  {
   "cell_type": "code",
   "execution_count": 98,
   "id": "b6fdd60c",
   "metadata": {},
   "outputs": [],
   "source": [
    "predictions = backtest(data, model, predictors)"
   ]
  },
  {
   "cell_type": "code",
   "execution_count": 99,
   "id": "82a07837",
   "metadata": {},
   "outputs": [
    {
     "data": {
      "text/plain": [
       "0.0    555\n",
       "1.0    149\n",
       "Name: Predictions, dtype: int64"
      ]
     },
     "execution_count": 99,
     "metadata": {},
     "output_type": "execute_result"
    }
   ],
   "source": [
    "predictions[\"Predictions\"].value_counts()"
   ]
  },
  {
   "cell_type": "code",
   "execution_count": 100,
   "id": "7df28473",
   "metadata": {},
   "outputs": [
    {
     "data": {
      "text/plain": [
       "0.5302013422818792"
      ]
     },
     "execution_count": 100,
     "metadata": {},
     "output_type": "execute_result"
    }
   ],
   "source": [
    "precision_score(predictions[\"Target\"], predictions[\"Predictions\"])"
   ]
  },
  {
   "cell_type": "code",
   "execution_count": 101,
   "id": "8b45d7b9",
   "metadata": {},
   "outputs": [],
   "source": [
    "weekly_mean = data.rolling(7).mean()\n",
    "quarterly_mean = data.rolling(90).mean()\n",
    "annual_mean = data.rolling(365).mean()\n",
    "weekly_trend = data.shift(1).rolling(7).mean()[\"Target\"]"
   ]
  },
  {
   "cell_type": "code",
   "execution_count": 102,
   "id": "808932bb",
   "metadata": {},
   "outputs": [],
   "source": [
    "data[\"weekly_mean\"] = weekly_mean[\"Close\"] / data[\"Close\"]\n",
    "data[\"quarterly_mean\"] = quarterly_mean[\"Close\"] / data[\"Close\"]\n",
    "data[\"annual_mean\"] = annual_mean[\"Close\"] / data[\"Close\"]\n",
    "\n",
    "data[\"annual_weekly_mean\"] = data[\"annual_mean\"] / data[\"weekly_mean\"]\n",
    "data[\"annual_quarterly_mean\"] = data[\"annual_mean\"] / data[\"quarterly_mean\"]\n",
    "data[\"weekly_trend\"] = weekly_trend\n",
    "\n",
    "data[\"open_close_ratio\"] = data[\"Open\"] / data[\"Close\"]\n",
    "data[\"high_close_ratio\"] = data[\"High\"] / data[\"Close\"]\n",
    "data[\"low_close_ratio\"] = data[\"Low\"] / data[\"Close\"]"
   ]
  },
  {
   "cell_type": "code",
   "execution_count": 103,
   "id": "df7bdd21",
   "metadata": {},
   "outputs": [],
   "source": [
    "full_predictors = predictors + [\"weekly_mean\", \"quarterly_mean\", \"annual_mean\", \"annual_weekly_mean\", \"annual_quarterly_mean\", \"open_close_ratio\", \"high_close_ratio\", \"low_close_ratio\", \"weekly_trend\"]\n",
    "predictions = backtest(data.iloc[365:], model, full_predictors)"
   ]
  },
  {
   "cell_type": "code",
   "execution_count": 104,
   "id": "8b7972de",
   "metadata": {},
   "outputs": [
    {
     "data": {
      "text/plain": [
       "0.5555555555555556"
      ]
     },
     "execution_count": 104,
     "metadata": {},
     "output_type": "execute_result"
    }
   ],
   "source": [
    "precision_score(predictions[\"Target\"], predictions[\"Predictions\"])"
   ]
  },
  {
   "cell_type": "code",
   "execution_count": 105,
   "id": "e5f4a94c",
   "metadata": {},
   "outputs": [
    {
     "data": {
      "text/plain": [
       "0.0    330\n",
       "1.0      9\n",
       "Name: Predictions, dtype: int64"
      ]
     },
     "execution_count": 105,
     "metadata": {},
     "output_type": "execute_result"
    }
   ],
   "source": [
    "# Show how many trades we would make - we only trade if the price is expected to go higher\n",
    "predictions[\"Predictions\"].value_counts()"
   ]
  },
  {
   "cell_type": "markdown",
   "id": "6be849af",
   "metadata": {},
   "source": [
    "## 7. Analyze the Results and Draw a Conclusion\n",
    "\n",
    "### 7.1. Cryptocurrencies' Correlation with BTC\n",
    "\n",
    "My prediction that all cryptocurrencies' prices have a strong positive correlation with BTC's price were proven right for 6 of the selected 9 assets, as the correlation was strongest between ETH and BTC. \n",
    "\n",
    "I analyzed the remaining 3 cryptocurrencies for which my hypothesis was wrong, namely EOS, NEM, and ZEC. What I found out is:\n",
    "1. EOS:\n",
    "* The months during which a strong positive correlation existed were almost the same number as those during which a negative one  was at place. \n",
    "* The negative correlation was present for around 7 months in total, but they are spread around and alternating with positive correlation. So, no single event could have contributed to the negative correlation.\n",
    "__Consequently, we can conclude that there was almost no correlation between EOS and BTC during the observed period.__\n",
    "2. NEM:\n",
    "* There were no periods of a strong positive correlation, except for 1 month of the observed period.\n",
    "* The negative correlation periods were spread around and alternating with with positive correlation ones. So, no single event could have contributed to the negative correlation.\n",
    "__NEM is still proved to be correlated with BTC, just not as strong as I predicted.__\n",
    "3. ZEC:\n",
    "* ZEC's correlation with BTC is overwhelmingly positive with only 4 months of negative correlation recorded. \n",
    "* The negative correlation periods were again spread around and alternating with with positive correlation ones. So, no single event could have contributed to the negative correlation.\n",
    "__ZEC is still proved to be correlated with BTC, just not as strong as I predicted.__\n",
    "\n",
    "__My first prediction can be considered proven.__\n",
    "\n",
    "### 7.2. NFTs' Correlation with BTC\n",
    "\n",
    "My prediction that prices of both NFTs and NFT-related tokens have a positive correlation with BTC is proven right.\n",
    "\n",
    "1. NFTs\n",
    "\n",
    "The visualization of the 2021-2022 correlation of NFTs and BTC prices is quite interesting. It shows a negative correlation in the beginning of 2022, or just around the period of the Nansen report cited in the beginning. However, that negative correlation was quickly reverted, and during the months from April through July of 2022, or exactly the time of the beginning of the BTC's bear market, the correlation is positive. __That definitely proves my thesis.__\n",
    "\n",
    "2. MANA Token\n",
    "\n",
    "The MANA's token's price correlation with BTC has been alternating between a positive and a negative one. However, during the period of BTC's bear market or May/June/July of 2022, the correlation is positive, even strongly positive in July. __That definitely proves my thesis too.__\n",
    "\n",
    "__My second prediction can be considered proven too.__\n",
    "\n",
    "\n",
    "### 7.3. Models\n",
    "\n",
    "The models shown in Section 6. predict MANA's price during the period between May 2nd and July 10th 2022, or again the time of BTC's bear market. __They prove that, based on historical price data, the price of the MANA token during that period was supposed to be and would have been much higher, if it was not affected and influenced by the drop in the BTC price.__"
   ]
  },
  {
   "cell_type": "code",
   "execution_count": null,
   "id": "7a4b6137",
   "metadata": {},
   "outputs": [],
   "source": []
  }
 ],
 "metadata": {
  "kernelspec": {
   "display_name": "Python 3 (ipykernel)",
   "language": "python",
   "name": "python3"
  },
  "language_info": {
   "codemirror_mode": {
    "name": "ipython",
    "version": 3
   },
   "file_extension": ".py",
   "mimetype": "text/x-python",
   "name": "python",
   "nbconvert_exporter": "python",
   "pygments_lexer": "ipython3",
   "version": "3.9.7"
  }
 },
 "nbformat": 4,
 "nbformat_minor": 5
}
